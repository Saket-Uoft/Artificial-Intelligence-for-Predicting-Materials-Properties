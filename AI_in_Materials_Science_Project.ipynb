{
 "cells": [
  {
   "cell_type": "code",
   "execution_count": 9,
   "metadata": {
    "colab": {
     "base_uri": "https://localhost:8080/",
     "height": 181
    },
    "colab_type": "code",
    "id": "CPECYqerElUi",
    "outputId": "78da264d-717c-431e-c3d4-a2251f7dd389"
   },
   "outputs": [
    {
     "name": "stderr",
     "output_type": "stream",
     "text": [
      "add /root/miniconda/lib/python3.6/site-packages to PYTHONPATH\n",
      "python version: 3.6.9\n",
      "fetching installer from https://repo.continuum.io/miniconda/Miniconda3-latest-Linux-x86_64.sh\n",
      "done\n",
      "installing miniconda to /root/miniconda\n",
      "done\n",
      "installing rdkit\n",
      "done\n",
      "rdkit-2020.03.3 installation finished!\n"
     ]
    }
   ],
   "source": [
    "import sys\n",
    "import os\n",
    "import requests\n",
    "import subprocess\n",
    "import shutil\n",
    "from logging import getLogger, StreamHandler, INFO\n",
    "\n",
    "\n",
    "logger = getLogger(__name__)\n",
    "logger.addHandler(StreamHandler())\n",
    "logger.setLevel(INFO)\n",
    "\n",
    "\n",
    "def install(\n",
    "        chunk_size=4096,\n",
    "        file_name=\"Miniconda3-latest-Linux-x86_64.sh\",\n",
    "        url_base=\"https://repo.continuum.io/miniconda/\",\n",
    "        conda_path=os.path.expanduser(os.path.join(\"~\", \"miniconda\")),\n",
    "        rdkit_version=None,\n",
    "        add_python_path=True,\n",
    "        force=False):\n",
    "    \"\"\"install rdkit from miniconda\n",
    "    ```\n",
    "    import rdkit_installer\n",
    "    rdkit_installer.install()\n",
    "    ```\n",
    "    \"\"\"\n",
    "\n",
    "    python_path = os.path.join(\n",
    "        conda_path,\n",
    "        \"lib\",\n",
    "        \"python{0}.{1}\".format(*sys.version_info),\n",
    "        \"site-packages\",\n",
    "    )\n",
    "\n",
    "    if add_python_path and python_path not in sys.path:\n",
    "        logger.info(\"add {} to PYTHONPATH\".format(python_path))\n",
    "        sys.path.append(python_path)\n",
    "\n",
    "    if os.path.isdir(os.path.join(python_path, \"rdkit\")):\n",
    "        logger.info(\"rdkit is already installed\")\n",
    "        if not force:\n",
    "            return\n",
    "\n",
    "        logger.info(\"force re-install\")\n",
    "\n",
    "    url = url_base + file_name\n",
    "    python_version = \"{0}.{1}.{2}\".format(*sys.version_info)\n",
    "\n",
    "    logger.info(\"python version: {}\".format(python_version))\n",
    "\n",
    "    if os.path.isdir(conda_path):\n",
    "        logger.warning(\"remove current miniconda\")\n",
    "        shutil.rmtree(conda_path)\n",
    "    elif os.path.isfile(conda_path):\n",
    "        logger.warning(\"remove {}\".format(conda_path))\n",
    "        os.remove(conda_path)\n",
    "\n",
    "    logger.info('fetching installer from {}'.format(url))\n",
    "    res = requests.get(url, stream=True)\n",
    "    res.raise_for_status()\n",
    "    with open(file_name, 'wb') as f:\n",
    "        for chunk in res.iter_content(chunk_size):\n",
    "            f.write(chunk)\n",
    "    logger.info('done')\n",
    "\n",
    "    logger.info('installing miniconda to {}'.format(conda_path))\n",
    "    subprocess.check_call([\"bash\", file_name, \"-b\", \"-p\", conda_path])\n",
    "    logger.info('done')\n",
    "\n",
    "    logger.info(\"installing rdkit\")\n",
    "    subprocess.check_call([\n",
    "        os.path.join(conda_path, \"bin\", \"conda\"),\n",
    "        \"install\",\n",
    "        \"--yes\",\n",
    "        \"-c\", \"rdkit\",\n",
    "        \"python=={}\".format(python_version),\n",
    "        \"rdkit\" if rdkit_version is None else \"rdkit=={}\".format(rdkit_version)])\n",
    "    logger.info(\"done\")\n",
    "\n",
    "    import rdkit\n",
    "    logger.info(\"rdkit-{} installation finished!\".format(rdkit.__version__))\n",
    "\n",
    "\n",
    "if __name__ == \"__main__\":\n",
    "    install()"
   ]
  },
  {
   "cell_type": "code",
   "execution_count": 10,
   "metadata": {
    "colab": {
     "base_uri": "https://localhost:8080/",
     "height": 348
    },
    "colab_type": "code",
    "id": "0qmHjs3qPouC",
    "outputId": "724e20c5-58b2-46dd-8d2d-03cbdfa00444"
   },
   "outputs": [
    {
     "data": {
      "text/html": [
       "<div>\n",
       "<style scoped>\n",
       "    .dataframe tbody tr th:only-of-type {\n",
       "        vertical-align: middle;\n",
       "    }\n",
       "\n",
       "    .dataframe tbody tr th {\n",
       "        vertical-align: top;\n",
       "    }\n",
       "\n",
       "    .dataframe thead th {\n",
       "        text-align: right;\n",
       "    }\n",
       "</style>\n",
       "<table border=\"1\" class=\"dataframe\">\n",
       "  <thead>\n",
       "    <tr style=\"text-align: right;\">\n",
       "      <th></th>\n",
       "      <th>Nomenclature Name</th>\n",
       "      <th>Molecular Structure</th>\n",
       "      <th>Tg</th>\n",
       "    </tr>\n",
       "  </thead>\n",
       "  <tbody>\n",
       "    <tr>\n",
       "      <th>0</th>\n",
       "      <td>Poly(4-biphenyl acrylate)</td>\n",
       "      <td>C=CC(=O)Oc2ccc(c1ccccc1)cc2</td>\n",
       "      <td>383.0</td>\n",
       "    </tr>\n",
       "    <tr>\n",
       "      <th>1</th>\n",
       "      <td>Poly(butyl acrylate)</td>\n",
       "      <td>CCCCOC(=O)C=C</td>\n",
       "      <td>219.0</td>\n",
       "    </tr>\n",
       "    <tr>\n",
       "      <th>2</th>\n",
       "      <td>Poly(sec-butyl acrylate)</td>\n",
       "      <td>CC(OC(=O)C=C)CC</td>\n",
       "      <td>250.0</td>\n",
       "    </tr>\n",
       "    <tr>\n",
       "      <th>3</th>\n",
       "      <td>Poly(2-tertbutylphenyl acrylate)</td>\n",
       "      <td>C=CC(=O)Oc1ccccc1C(C)(C)C</td>\n",
       "      <td>345.0</td>\n",
       "    </tr>\n",
       "    <tr>\n",
       "      <th>4</th>\n",
       "      <td>Poly(4-tertbutylphenyl acrylate)</td>\n",
       "      <td>C=CC(=O)Oc1ccc(C(C)(C)C)cc1</td>\n",
       "      <td>344.0</td>\n",
       "    </tr>\n",
       "    <tr>\n",
       "      <th>7</th>\n",
       "      <td>Poly(4-cyanobenzyl acrylate)</td>\n",
       "      <td>C=CC(=O)Oc1ccc(C#N)cc1</td>\n",
       "      <td>317.0</td>\n",
       "    </tr>\n",
       "    <tr>\n",
       "      <th>8</th>\n",
       "      <td>Poly(2-cyanoisobutyl acrylate)</td>\n",
       "      <td>C=CC(=O)OCC(C)C#N</td>\n",
       "      <td>324.0</td>\n",
       "    </tr>\n",
       "    <tr>\n",
       "      <th>9</th>\n",
       "      <td>Poly(2-cyanoethyl acrylate)</td>\n",
       "      <td>C=CC(=O)OCCC#N</td>\n",
       "      <td>277.0</td>\n",
       "    </tr>\n",
       "    <tr>\n",
       "      <th>10</th>\n",
       "      <td>Poly(2-cyanohexyl acrylate)</td>\n",
       "      <td>C=CC(=O)OCCCCCCC#N</td>\n",
       "      <td>358.0</td>\n",
       "    </tr>\n",
       "    <tr>\n",
       "      <th>11</th>\n",
       "      <td>Poly(2-cyanoisopropyl acrylate)</td>\n",
       "      <td>C=CC(=O)OC(C)C#N</td>\n",
       "      <td>339.0</td>\n",
       "    </tr>\n",
       "  </tbody>\n",
       "</table>\n",
       "</div>"
      ],
      "text/plain": [
       "                   Nomenclature Name          Molecular Structure     Tg\n",
       "0          Poly(4-biphenyl acrylate)  C=CC(=O)Oc2ccc(c1ccccc1)cc2  383.0\n",
       "1               Poly(butyl acrylate)                CCCCOC(=O)C=C  219.0\n",
       "2           Poly(sec-butyl acrylate)              CC(OC(=O)C=C)CC  250.0\n",
       "3   Poly(2-tertbutylphenyl acrylate)    C=CC(=O)Oc1ccccc1C(C)(C)C  345.0\n",
       "4   Poly(4-tertbutylphenyl acrylate)  C=CC(=O)Oc1ccc(C(C)(C)C)cc1  344.0\n",
       "7       Poly(4-cyanobenzyl acrylate)       C=CC(=O)Oc1ccc(C#N)cc1  317.0\n",
       "8     Poly(2-cyanoisobutyl acrylate)            C=CC(=O)OCC(C)C#N  324.0\n",
       "9        Poly(2-cyanoethyl acrylate)               C=CC(=O)OCCC#N  277.0\n",
       "10       Poly(2-cyanohexyl acrylate)           C=CC(=O)OCCCCCCC#N  358.0\n",
       "11   Poly(2-cyanoisopropyl acrylate)             C=CC(=O)OC(C)C#N  339.0"
      ]
     },
     "execution_count": 10,
     "metadata": {
      "tags": []
     },
     "output_type": "execute_result"
    }
   ],
   "source": [
    "import numpy as np\n",
    "import pandas as pd\n",
    "import matplotlib.pyplot as plt\n",
    "import rdkit\n",
    "from rdkit.Chem import AllChem\n",
    "from rdkit import Chem\n",
    "from sklearn.preprocessing import OneHotEncoder\n",
    "\n",
    "\n",
    "df=pd.read_csv(\"molecules.csv\")\n",
    "df=df.dropna(how=\"all\")\n",
    "df=df.iloc[:,:3]\n",
    "df[\"Nomenclature Name\"]=df.iloc[:,2]\n",
    "df[\"Molecular Structure\"]=df.iloc[:,1]\n",
    "df[\"Tg\"]=df.iloc[:,0]\n",
    "df=df[[\"Nomenclature Name\",\"Molecular Structure\",\"Tg\"]]\n",
    "df.head(10)"
   ]
  },
  {
   "cell_type": "code",
   "execution_count": 11,
   "metadata": {
    "colab": {
     "base_uri": "https://localhost:8080/",
     "height": 481
    },
    "colab_type": "code",
    "id": "aPaKHmsz2sef",
    "outputId": "82540404-6151-4c1b-94e7-86465b601480"
   },
   "outputs": [
    {
     "data": {
      "image/png": "[encoded data removed]",
      "text/plain": [
       "<Figure size 180x180 with 1 Axes>"
      ]
     },
     "metadata": {
      "needs_background": "light",
      "tags": []
     },
     "output_type": "display_data"
    }
   ],
   "source": [
    "from rdkit.Chem.Draw import SimilarityMaps\n",
    "mol = Chem.MolFromSmiles('C=CC(=O)Oc1ccc(C(C)(C)C)cc1\t')\n",
    "AllChem.ComputeGasteigerCharges(mol)\n",
    "contribs = [mol.GetAtomWithIdx(i).GetDoubleProp('_GasteigerCharge') for i in range(mol.GetNumAtoms())]\n",
    "fig = SimilarityMaps.GetSimilarityMapFromWeights(mol, contribs, colorMap='jet', contourLines=10)\n",
    "AllChem.ComputeGasteigerCharges(mol)\n",
    "\n"
   ]
  },
  {
   "cell_type": "code",
   "execution_count": 12,
   "metadata": {
    "colab": {},
    "colab_type": "code",
    "id": "nrDCqYj5XS81"
   },
   "outputs": [],
   "source": [
    "def encoding(df):\n",
    "  encoded=[]\n",
    "  elements=[['c'], ['n'], ['o'], ['C'], ['N'], ['F'], ['='], ['O'], \n",
    "            ['('], [')'], ['1'],['2'],['#'],['Cl'],['/']]\n",
    "  enc = OneHotEncoder(handle_unknown='ignore')\n",
    "  enc.fit(elements)\n",
    "  enc.categories_\n",
    "  df1=df[\"Molecular Structure\"].apply(lambda x: pd.Series(list(x)))\n",
    "  for i in range(df1.shape[0]):\n",
    "    x=enc.transform(pd.DataFrame(df1.iloc[i,:]).dropna(how=\"all\").values).toarray()\n",
    "    y=np.zeros(((df1.shape[1]-x.shape[0]),len(elements)))\n",
    "    encoded.append(np.vstack((x,y)))\n",
    "  return encoded\n",
    "\n",
    "def encoded_generate_images(df):\n",
    "  listt=encoding(df)\n",
    "  plt.figure(figsize=(20,100))\n",
    "  for i in range(len(listt)):\n",
    "    plt.subplot(len(listt),5,i+1)\n",
    "    plt.imshow(listt[i])"
   ]
  },
  {
   "cell_type": "code",
   "execution_count": 13,
   "metadata": {
    "colab": {
     "base_uri": "https://localhost:8080/",
     "height": 679
    },
    "colab_type": "code",
    "id": "QM3twHvq8Y40",
    "outputId": "454dcf30-275d-4699-e185-61e45607ab2b"
   },
   "outputs": [
    {
     "data": {
      "image/png": "[encoded data removed]",
      "text/plain": [
       "<Figure size 1440x7200 with 10 Axes>"
      ]
     },
     "metadata": {
      "needs_background": "light",
      "tags": []
     },
     "output_type": "display_data"
    }
   ],
   "source": [
    "encoded_generate_images(df.head(10))"
   ]
  },
  {
   "cell_type": "code",
   "execution_count": 14,
   "metadata": {
    "colab": {
     "base_uri": "https://localhost:8080/",
     "height": 35
    },
    "colab_type": "code",
    "id": "WOnH21vgn4PJ",
    "outputId": "706e0ce1-05d2-4343-b47a-c93eb4526a1f"
   },
   "outputs": [
    {
     "name": "stderr",
     "output_type": "stream",
     "text": [
      "Using TensorFlow backend.\n"
     ]
    }
   ],
   "source": [
    "import keras\n",
    "from keras.models import Sequential\n",
    "from keras.layers import Dense,MaxPool2D,Conv2D,Conv1D,Flatten,MaxPooling1D\n",
    "from keras import optimizers\n",
    "from keras.layers import Dropout"
   ]
  },
  {
   "cell_type": "code",
   "execution_count": 15,
   "metadata": {
    "colab": {
     "base_uri": "https://localhost:8080/",
     "height": 35
    },
    "colab_type": "code",
    "id": "lmNFyfcqtW6R",
    "outputId": "f2d5cd12-547e-4d5a-d50d-be7fb3799004"
   },
   "outputs": [
    {
     "data": {
      "text/plain": [
       "(102, 58, 15)"
      ]
     },
     "execution_count": 15,
     "metadata": {
      "tags": []
     },
     "output_type": "execute_result"
    }
   ],
   "source": [
    "X=encoding(df)\n",
    "X=np.array(X)\n",
    "X.shape"
   ]
  },
  {
   "cell_type": "code",
   "execution_count": 16,
   "metadata": {
    "colab": {
     "base_uri": "https://localhost:8080/",
     "height": 35
    },
    "colab_type": "code",
    "id": "mLgE7E1VuAOP",
    "outputId": "d5f2a57f-4ea2-4ebb-b652-cd8617f27095"
   },
   "outputs": [
    {
     "data": {
      "text/plain": [
       "(102,)"
      ]
     },
     "execution_count": 16,
     "metadata": {
      "tags": []
     },
     "output_type": "execute_result"
    }
   ],
   "source": [
    "Y=df[\"Tg\"].values\n",
    "Y.shape"
   ]
  },
  {
   "cell_type": "code",
   "execution_count": 43,
   "metadata": {
    "colab": {
     "base_uri": "https://localhost:8080/",
     "height": 1000
    },
    "colab_type": "code",
    "id": "tavJY2y7uLFM",
    "outputId": "71f61431-1945-41a2-dcd7-337127049ff3"
   },
   "outputs": [
    {
     "name": "stdout",
     "output_type": "stream",
     "text": [
      "Train on 72 samples, validate on 19 samples\n",
      "Epoch 1/50\n",
      "72/72 [==============================] - 0s 2ms/step - loss: 298.8824 - val_loss: 282.5479\n",
      "Epoch 2/50\n",
      "72/72 [==============================] - 0s 393us/step - loss: 280.6631 - val_loss: 252.0884\n",
      "Epoch 3/50\n",
      "72/72 [==============================] - 0s 384us/step - loss: 229.3876 - val_loss: 182.6381\n",
      "Epoch 4/50\n",
      "72/72 [==============================] - 0s 426us/step - loss: 137.1246 - val_loss: 57.1797\n",
      "Epoch 5/50\n",
      "72/72 [==============================] - 0s 420us/step - loss: 84.4007 - val_loss: 48.2213\n",
      "Epoch 6/50\n",
      "72/72 [==============================] - 0s 380us/step - loss: 90.2793 - val_loss: 31.8627\n",
      "Epoch 7/50\n",
      "72/72 [==============================] - 0s 433us/step - loss: 63.0435 - val_loss: 58.1715\n",
      "Epoch 8/50\n",
      "72/72 [==============================] - 0s 377us/step - loss: 56.6739 - val_loss: 31.7239\n",
      "Epoch 9/50\n",
      "72/72 [==============================] - 0s 361us/step - loss: 44.4436 - val_loss: 26.7387\n",
      "Epoch 10/50\n",
      "72/72 [==============================] - 0s 359us/step - loss: 38.3679 - val_loss: 32.1836\n",
      "Epoch 11/50\n",
      "72/72 [==============================] - 0s 360us/step - loss: 36.2464 - val_loss: 25.6907\n",
      "Epoch 12/50\n",
      "72/72 [==============================] - 0s 379us/step - loss: 32.8299 - val_loss: 24.2303\n",
      "Epoch 13/50\n",
      "72/72 [==============================] - 0s 380us/step - loss: 29.5855 - val_loss: 24.1645\n",
      "Epoch 14/50\n",
      "72/72 [==============================] - 0s 371us/step - loss: 32.2099 - val_loss: 23.0528\n",
      "Epoch 15/50\n",
      "72/72 [==============================] - 0s 388us/step - loss: 27.3468 - val_loss: 22.4333\n",
      "Epoch 16/50\n",
      "72/72 [==============================] - 0s 363us/step - loss: 26.2671 - val_loss: 20.8489\n",
      "Epoch 17/50\n",
      "72/72 [==============================] - 0s 347us/step - loss: 26.9107 - val_loss: 21.2663\n",
      "Epoch 18/50\n",
      "72/72 [==============================] - 0s 379us/step - loss: 23.9470 - val_loss: 20.4180\n",
      "Epoch 19/50\n",
      "72/72 [==============================] - 0s 357us/step - loss: 22.2088 - val_loss: 24.4371\n",
      "Epoch 20/50\n",
      "72/72 [==============================] - 0s 384us/step - loss: 25.7452 - val_loss: 20.5083\n",
      "Epoch 21/50\n",
      "72/72 [==============================] - 0s 393us/step - loss: 22.9074 - val_loss: 22.1975\n",
      "Epoch 22/50\n",
      "72/72 [==============================] - 0s 541us/step - loss: 21.1739 - val_loss: 20.0009\n",
      "Epoch 23/50\n",
      "72/72 [==============================] - 0s 459us/step - loss: 21.0789 - val_loss: 20.6131\n",
      "Epoch 24/50\n",
      "72/72 [==============================] - 0s 459us/step - loss: 19.7354 - val_loss: 20.5214\n",
      "Epoch 25/50\n",
      "72/72 [==============================] - 0s 447us/step - loss: 19.2243 - val_loss: 19.0714\n",
      "Epoch 26/50\n",
      "72/72 [==============================] - 0s 394us/step - loss: 18.4646 - val_loss: 24.0355\n",
      "Epoch 27/50\n",
      "72/72 [==============================] - 0s 354us/step - loss: 20.6718 - val_loss: 20.3314\n",
      "Epoch 28/50\n",
      "72/72 [==============================] - 0s 368us/step - loss: 19.5919 - val_loss: 22.2446\n",
      "Epoch 29/50\n",
      "72/72 [==============================] - 0s 365us/step - loss: 16.8952 - val_loss: 19.6047\n",
      "Epoch 30/50\n",
      "72/72 [==============================] - 0s 376us/step - loss: 21.7174 - val_loss: 19.5499\n",
      "Epoch 31/50\n",
      "72/72 [==============================] - 0s 378us/step - loss: 16.7991 - val_loss: 19.8973\n",
      "Epoch 32/50\n",
      "72/72 [==============================] - 0s 371us/step - loss: 17.2045 - val_loss: 20.0712\n",
      "Epoch 33/50\n",
      "72/72 [==============================] - 0s 383us/step - loss: 17.6957 - val_loss: 18.4533\n",
      "Epoch 34/50\n",
      "72/72 [==============================] - 0s 363us/step - loss: 18.4952 - val_loss: 24.1489\n",
      "Epoch 35/50\n",
      "72/72 [==============================] - 0s 386us/step - loss: 18.8780 - val_loss: 18.3514\n",
      "Epoch 36/50\n",
      "72/72 [==============================] - 0s 370us/step - loss: 16.7711 - val_loss: 19.4152\n",
      "Epoch 37/50\n",
      "72/72 [==============================] - 0s 403us/step - loss: 16.6985 - val_loss: 20.1052\n",
      "Epoch 38/50\n",
      "72/72 [==============================] - 0s 382us/step - loss: 17.6239 - val_loss: 20.1115\n",
      "Epoch 39/50\n",
      "72/72 [==============================] - 0s 384us/step - loss: 18.1138 - val_loss: 23.0834\n",
      "Epoch 40/50\n",
      "72/72 [==============================] - 0s 380us/step - loss: 18.3042 - val_loss: 19.9988\n",
      "Epoch 41/50\n",
      "72/72 [==============================] - 0s 407us/step - loss: 16.3190 - val_loss: 22.5566\n",
      "Epoch 42/50\n",
      "72/72 [==============================] - 0s 442us/step - loss: 18.5177 - val_loss: 19.2661\n",
      "Epoch 43/50\n",
      "72/72 [==============================] - 0s 416us/step - loss: 16.9638 - val_loss: 18.6603\n",
      "Epoch 44/50\n",
      "72/72 [==============================] - 0s 399us/step - loss: 13.8860 - val_loss: 18.9988\n",
      "Epoch 45/50\n",
      "72/72 [==============================] - 0s 368us/step - loss: 15.6572 - val_loss: 21.5542\n",
      "Epoch 46/50\n",
      "72/72 [==============================] - 0s 366us/step - loss: 15.3590 - val_loss: 19.3472\n",
      "Epoch 47/50\n",
      "72/72 [==============================] - 0s 398us/step - loss: 15.6699 - val_loss: 19.4149\n",
      "Epoch 48/50\n",
      "72/72 [==============================] - 0s 392us/step - loss: 14.8926 - val_loss: 20.0161\n",
      "Epoch 49/50\n",
      "72/72 [==============================] - 0s 392us/step - loss: 14.5368 - val_loss: 20.8722\n",
      "Epoch 50/50\n",
      "72/72 [==============================] - 0s 373us/step - loss: 15.3597 - val_loss: 19.9644\n"
     ]
    }
   ],
   "source": [
    "from sklearn.model_selection import train_test_split\n",
    "X_train, X_test, y_train, y_test = train_test_split(X, Y, test_size=0.1, random_state=42)\n",
    "model = Sequential()\n",
    "model.add(Conv1D(filters=128, kernel_size=8, activation='relu',kernel_regularizer=\"l2\", input_shape=(58, 15)))\n",
    "model.add(MaxPooling1D(pool_size=5))\n",
    "model.add(Dropout(0.1))\n",
    "model.add(Flatten())\n",
    "model.add(Dense(50, activation='relu'))\n",
    "model.add(Dense(1))\n",
    "optimizer=optimizers.adam(lr=0.005)\n",
    "model.compile(optimizer=optimizer, loss='mean_absolute_error')\n",
    "Model=model.fit(x=X_train,y=y_train,epochs=50,batch_size=16,validation_split=0.2)\n",
    "  \n"
   ]
  },
  {
   "cell_type": "code",
   "execution_count": 44,
   "metadata": {
    "colab": {
     "base_uri": "https://localhost:8080/",
     "height": 381
    },
    "colab_type": "code",
    "id": "WQg37qvNwH7q",
    "outputId": "a33316e5-5355-411c-80a0-318d046bfb2e"
   },
   "outputs": [
    {
     "name": "stdout",
     "output_type": "stream",
     "text": [
      "Model: \"sequential_6\"\n",
      "_________________________________________________________________\n",
      "Layer (type)                 Output Shape              Param #   \n",
      "=================================================================\n",
      "conv1d_6 (Conv1D)            (None, 51, 128)           15488     \n",
      "_________________________________________________________________\n",
      "max_pooling1d_6 (MaxPooling1 (None, 10, 128)           0         \n",
      "_________________________________________________________________\n",
      "dropout_6 (Dropout)          (None, 10, 128)           0         \n",
      "_________________________________________________________________\n",
      "flatten_6 (Flatten)          (None, 1280)              0         \n",
      "_________________________________________________________________\n",
      "dense_11 (Dense)             (None, 50)                64050     \n",
      "_________________________________________________________________\n",
      "dense_12 (Dense)             (None, 1)                 51        \n",
      "=================================================================\n",
      "Total params: 79,589\n",
      "Trainable params: 79,589\n",
      "Non-trainable params: 0\n",
      "_________________________________________________________________\n"
     ]
    }
   ],
   "source": [
    "model.summary()\n"
   ]
  },
  {
   "cell_type": "code",
   "execution_count": 48,
   "metadata": {
    "colab": {
     "base_uri": "https://localhost:8080/",
     "height": 54
    },
    "colab_type": "code",
    "id": "anBQTj5Y62oP",
    "outputId": "4e1d6d97-de29-446a-fa5f-e6b4023eb38b"
   },
   "outputs": [
    {
     "name": "stdout",
     "output_type": "stream",
     "text": [
      "Mean Absolute Error on Training Set =  12.154252440064818\n",
      "Mean Absolute Error on Test Set =  19.833858143199574\n"
     ]
    }
   ],
   "source": [
    "y_predtrain=model.predict(X_train)\n",
    "y_predtest=model.predict(X_test)\n",
    "MAE_test=abs(y_predtest.reshape(y_test.shape)-y_test).sum()/y_test.shape\n",
    "MAE_train=abs(y_predtrain.reshape(y_train.shape)-y_train).sum()/y_train.shape\n",
    "print(\"Mean Absolute Error on Training Set = \",MAE_train.item())\n",
    "print(\"Mean Absolute Error on Test Set = \",MAE_test.item())"
   ]
  },
  {
   "cell_type": "code",
   "execution_count": 40,
   "metadata": {
    "colab": {
     "base_uri": "https://localhost:8080/",
     "height": 283
    },
    "colab_type": "code",
    "id": "THWiOO0N5979",
    "outputId": "ce63139e-56f7-478f-d49a-8bc1bccaffc6"
   },
   "outputs": [
    {
     "data": {
      "text/plain": [
       "(21,)"
      ]
     },
     "execution_count": 40,
     "metadata": {
      "tags": []
     },
     "output_type": "execute_result"
    },
    {
     "data": {
      "image/png": "[encoded data removed]",
      "text/plain": [
       "<Figure size 432x288 with 1 Axes>"
      ]
     },
     "metadata": {
      "needs_background": "light",
      "tags": []
     },
     "output_type": "display_data"
    }
   ],
   "source": [
    "import matplotlib.pyplot as plt\n",
    "plt.scatter(y_predtrain,y_train.reshape(81,1))\n",
    "plt.xlim([150,650])\n",
    "plt.ylim([150,650])\n",
    "y_train.shape\n",
    "y_test.shape\n"
   ]
  },
  {
   "cell_type": "code",
   "execution_count": 41,
   "metadata": {
    "colab": {
     "base_uri": "https://localhost:8080/",
     "height": 542
    },
    "colab_type": "code",
    "id": "8XU9IvIREViR",
    "outputId": "45ced389-ef2b-47fe-aaf4-94920d576cdb"
   },
   "outputs": [
    {
     "data": {
      "text/html": [
       "<html>\n",
       "<head><meta charset=\"utf-8\" /></head>\n",
       "<body>\n",
       "    <div>\n",
       "            <script src=\"https://cdnjs.cloudflare.com/ajax/libs/mathjax/2.7.5/MathJax.js?config=TeX-AMS-MML_SVG\"></script><script type=\"text/javascript\">if (window.MathJax) {MathJax.Hub.Config({SVG: {font: \"STIX-Web\"}});}</script>\n",
       "                <script type=\"text/javascript\">window.PlotlyConfig = {MathJaxConfig: 'local'};</script>\n",
       "        <script src=\"https://cdn.plot.ly/plotly-latest.min.js\"></script>    \n",
       "            <div id=\"2075435e-9a1d-4e35-ab3c-63306f640203\" class=\"plotly-graph-div\" style=\"height:525px; width:100%;\"></div>\n",
       "            <script type=\"text/javascript\">\n",
       "                \n",
       "                    window.PLOTLYENV=window.PLOTLYENV || {};\n",
       "                    \n",
       "                if (document.getElementById(\"2075435e-9a1d-4e35-ab3c-63306f640203\")) {\n",
       "                    Plotly.newPlot(\n",
       "                        '2075435e-9a1d-4e35-ab3c-63306f640203',\n",
       "                        [{\"hoverlabel\": {\"namelength\": 0}, \"hovertemplate\": \"x=%{x}<br>y=%{y}\", \"legendgroup\": \"\", \"marker\": {\"color\": \"#636efa\", \"symbol\": \"circle\"}, \"mode\": \"markers\", \"name\": \"\", \"showlegend\": false, \"type\": \"scatter\", \"x\": [323.0740051269531, 213.68936157226562, 320.31707763671875, 260.2767639160156, 357.52569580078125, 237.67388916015625, 356.470458984375, 238.6263427734375, 329.2687683105469, 380.2955627441406, 223.04226684570312, 377.7562561035156, 221.38473510742188, 297.1481628417969, 219.191650390625, 335.7790832519531, 340.27618408203125, 209.9613800048828, 238.51190185546875, 202.02630615234375, 328.8836364746094, 232.13372802734375, 278.2294006347656, 328.9656982421875, 348.98004150390625, 324.6930236816406, 285.0843505859375, 322.64288330078125, 311.3233642578125, 362.8236999511719, 221.38470458984375, 308.39105224609375, 233.12960815429688, 341.1093444824219, 242.46551513671875, 284.6568298339844, 285.2884216308594, 340.8422546386719, 315.7440490722656, 325.4231872558594, 254.47154235839844, 363.6880187988281, 228.481689453125, 380.0602722167969, 303.0718078613281, 230.70333862304688, 342.384765625, 217.62831115722656, 369.7039489746094, 325.6159973144531, 360.6628723144531, 333.9178161621094, 249.48228454589844, 254.149169921875, 293.5429382324219, 362.8094177246094, 230.70333862304688, 353.7778625488281, 359.5075378417969, 344.7918395996094, 253.85208129882812, 230.48609924316406, 342.3336486816406, 255.3954620361328, 240.6703643798828, 248.43682861328125, 278.3878479003906, 258.9678039550781, 259.2127685546875, 241.3728485107422, 366.4765319824219, 352.349853515625, 365.4977111816406, 339.9528503417969, 337.7630920410156, 261.95989990234375, 257.1701965332031, 336.1457214355469, 224.70791625976562, 357.9302978515625, 298.4732666015625], \"xaxis\": \"x\", \"y\": [320.0, 216.0, 316.0, 263.0, 364.0, 249.0, 360.0, 236.0, 339.0, 384.0, 270.0, 373.0, 223.0, 198.0, 215.0, 317.0, 347.0, 216.0, 238.0, 288.0, 323.0, 236.0, 277.0, 325.0, 349.0, 324.0, 283.0, 319.0, 311.0, 367.0, 223.0, 297.0, 217.0, 345.0, 243.0, 270.0, 358.0, 339.0, 324.0, 330.0, 247.0, 361.0, 223.0, 372.0, 310.0, 228.0, 389.0, 205.0, 371.0, 319.0, 358.0, 318.0, 251.0, 213.0, 286.0, 368.0, 228.0, 347.0, 358.0, 343.0, 251.0, 283.0, 343.0, 267.0, 241.0, 219.0, 250.0, 308.0, 250.0, 249.0, 351.0, 365.0, 359.0, 341.0, 339.0, 235.0, 270.0, 339.0, 218.0, 351.0, 233.0], \"yaxis\": \"y\"}],\n",
       "                        {\"legend\": {\"tracegroupgap\": 0}, \"margin\": {\"t\": 60}, \"template\": {\"data\": {\"bar\": [{\"error_x\": {\"color\": \"#2a3f5f\"}, \"error_y\": {\"color\": \"#2a3f5f\"}, \"marker\": {\"line\": {\"color\": \"#E5ECF6\", \"width\": 0.5}}, \"type\": \"bar\"}], \"barpolar\": [{\"marker\": {\"line\": {\"color\": \"#E5ECF6\", \"width\": 0.5}}, \"type\": \"barpolar\"}], \"carpet\": [{\"aaxis\": {\"endlinecolor\": \"#2a3f5f\", \"gridcolor\": \"white\", \"linecolor\": \"white\", \"minorgridcolor\": \"white\", \"startlinecolor\": \"#2a3f5f\"}, \"baxis\": {\"endlinecolor\": \"#2a3f5f\", \"gridcolor\": \"white\", \"linecolor\": \"white\", \"minorgridcolor\": \"white\", \"startlinecolor\": \"#2a3f5f\"}, \"type\": \"carpet\"}], \"choropleth\": [{\"colorbar\": {\"outlinewidth\": 0, \"ticks\": \"\"}, \"type\": \"choropleth\"}], \"contour\": [{\"colorbar\": {\"outlinewidth\": 0, \"ticks\": \"\"}, \"colorscale\": [[0.0, \"#0d0887\"], [0.1111111111111111, \"#46039f\"], [0.2222222222222222, \"#7201a8\"], [0.3333333333333333, \"#9c179e\"], [0.4444444444444444, \"#bd3786\"], [0.5555555555555556, \"#d8576b\"], [0.6666666666666666, \"#ed7953\"], [0.7777777777777778, \"#fb9f3a\"], [0.8888888888888888, \"#fdca26\"], [1.0, \"#f0f921\"]], \"type\": \"contour\"}], \"contourcarpet\": [{\"colorbar\": {\"outlinewidth\": 0, \"ticks\": \"\"}, \"type\": \"contourcarpet\"}], \"heatmap\": [{\"colorbar\": {\"outlinewidth\": 0, \"ticks\": \"\"}, \"colorscale\": [[0.0, \"#0d0887\"], [0.1111111111111111, \"#46039f\"], [0.2222222222222222, \"#7201a8\"], [0.3333333333333333, \"#9c179e\"], [0.4444444444444444, \"#bd3786\"], [0.5555555555555556, \"#d8576b\"], [0.6666666666666666, \"#ed7953\"], [0.7777777777777778, \"#fb9f3a\"], [0.8888888888888888, \"#fdca26\"], [1.0, \"#f0f921\"]], \"type\": \"heatmap\"}], \"heatmapgl\": [{\"colorbar\": {\"outlinewidth\": 0, \"ticks\": \"\"}, \"colorscale\": [[0.0, \"#0d0887\"], [0.1111111111111111, \"#46039f\"], [0.2222222222222222, \"#7201a8\"], [0.3333333333333333, \"#9c179e\"], [0.4444444444444444, \"#bd3786\"], [0.5555555555555556, \"#d8576b\"], [0.6666666666666666, \"#ed7953\"], [0.7777777777777778, \"#fb9f3a\"], [0.8888888888888888, \"#fdca26\"], [1.0, \"#f0f921\"]], \"type\": \"heatmapgl\"}], \"histogram\": [{\"marker\": {\"colorbar\": {\"outlinewidth\": 0, \"ticks\": \"\"}}, \"type\": \"histogram\"}], \"histogram2d\": [{\"colorbar\": {\"outlinewidth\": 0, \"ticks\": \"\"}, \"colorscale\": [[0.0, \"#0d0887\"], [0.1111111111111111, \"#46039f\"], [0.2222222222222222, \"#7201a8\"], [0.3333333333333333, \"#9c179e\"], [0.4444444444444444, \"#bd3786\"], [0.5555555555555556, \"#d8576b\"], [0.6666666666666666, \"#ed7953\"], [0.7777777777777778, \"#fb9f3a\"], [0.8888888888888888, \"#fdca26\"], [1.0, \"#f0f921\"]], \"type\": \"histogram2d\"}], \"histogram2dcontour\": [{\"colorbar\": {\"outlinewidth\": 0, \"ticks\": \"\"}, \"colorscale\": [[0.0, \"#0d0887\"], [0.1111111111111111, \"#46039f\"], [0.2222222222222222, \"#7201a8\"], [0.3333333333333333, \"#9c179e\"], [0.4444444444444444, \"#bd3786\"], [0.5555555555555556, \"#d8576b\"], [0.6666666666666666, \"#ed7953\"], [0.7777777777777778, \"#fb9f3a\"], [0.8888888888888888, \"#fdca26\"], [1.0, \"#f0f921\"]], \"type\": \"histogram2dcontour\"}], \"mesh3d\": [{\"colorbar\": {\"outlinewidth\": 0, \"ticks\": \"\"}, \"type\": \"mesh3d\"}], \"parcoords\": [{\"line\": {\"colorbar\": {\"outlinewidth\": 0, \"ticks\": \"\"}}, \"type\": \"parcoords\"}], \"pie\": [{\"automargin\": true, \"type\": \"pie\"}], \"scatter\": [{\"marker\": {\"colorbar\": {\"outlinewidth\": 0, \"ticks\": \"\"}}, \"type\": \"scatter\"}], \"scatter3d\": [{\"line\": {\"colorbar\": {\"outlinewidth\": 0, \"ticks\": \"\"}}, \"marker\": {\"colorbar\": {\"outlinewidth\": 0, \"ticks\": \"\"}}, \"type\": \"scatter3d\"}], \"scattercarpet\": [{\"marker\": {\"colorbar\": {\"outlinewidth\": 0, \"ticks\": \"\"}}, \"type\": \"scattercarpet\"}], \"scattergeo\": [{\"marker\": {\"colorbar\": {\"outlinewidth\": 0, \"ticks\": \"\"}}, \"type\": \"scattergeo\"}], \"scattergl\": [{\"marker\": {\"colorbar\": {\"outlinewidth\": 0, \"ticks\": \"\"}}, \"type\": \"scattergl\"}], \"scattermapbox\": [{\"marker\": {\"colorbar\": {\"outlinewidth\": 0, \"ticks\": \"\"}}, \"type\": \"scattermapbox\"}], \"scatterpolar\": [{\"marker\": {\"colorbar\": {\"outlinewidth\": 0, \"ticks\": \"\"}}, \"type\": \"scatterpolar\"}], \"scatterpolargl\": [{\"marker\": {\"colorbar\": {\"outlinewidth\": 0, \"ticks\": \"\"}}, \"type\": \"scatterpolargl\"}], \"scatterternary\": [{\"marker\": {\"colorbar\": {\"outlinewidth\": 0, \"ticks\": \"\"}}, \"type\": \"scatterternary\"}], \"surface\": [{\"colorbar\": {\"outlinewidth\": 0, \"ticks\": \"\"}, \"colorscale\": [[0.0, \"#0d0887\"], [0.1111111111111111, \"#46039f\"], [0.2222222222222222, \"#7201a8\"], [0.3333333333333333, \"#9c179e\"], [0.4444444444444444, \"#bd3786\"], [0.5555555555555556, \"#d8576b\"], [0.6666666666666666, \"#ed7953\"], [0.7777777777777778, \"#fb9f3a\"], [0.8888888888888888, \"#fdca26\"], [1.0, \"#f0f921\"]], \"type\": \"surface\"}], \"table\": [{\"cells\": {\"fill\": {\"color\": \"#EBF0F8\"}, \"line\": {\"color\": \"white\"}}, \"header\": {\"fill\": {\"color\": \"#C8D4E3\"}, \"line\": {\"color\": \"white\"}}, \"type\": \"table\"}]}, \"layout\": {\"annotationdefaults\": {\"arrowcolor\": \"#2a3f5f\", \"arrowhead\": 0, \"arrowwidth\": 1}, \"coloraxis\": {\"colorbar\": {\"outlinewidth\": 0, \"ticks\": \"\"}}, \"colorscale\": {\"diverging\": [[0, \"#8e0152\"], [0.1, \"#c51b7d\"], [0.2, \"#de77ae\"], [0.3, \"#f1b6da\"], [0.4, \"#fde0ef\"], [0.5, \"#f7f7f7\"], [0.6, \"#e6f5d0\"], [0.7, \"#b8e186\"], [0.8, \"#7fbc41\"], [0.9, \"#4d9221\"], [1, \"#276419\"]], \"sequential\": [[0.0, \"#0d0887\"], [0.1111111111111111, \"#46039f\"], [0.2222222222222222, \"#7201a8\"], [0.3333333333333333, \"#9c179e\"], [0.4444444444444444, \"#bd3786\"], [0.5555555555555556, \"#d8576b\"], [0.6666666666666666, \"#ed7953\"], [0.7777777777777778, \"#fb9f3a\"], [0.8888888888888888, \"#fdca26\"], [1.0, \"#f0f921\"]], \"sequentialminus\": [[0.0, \"#0d0887\"], [0.1111111111111111, \"#46039f\"], [0.2222222222222222, \"#7201a8\"], [0.3333333333333333, \"#9c179e\"], [0.4444444444444444, \"#bd3786\"], [0.5555555555555556, \"#d8576b\"], [0.6666666666666666, \"#ed7953\"], [0.7777777777777778, \"#fb9f3a\"], [0.8888888888888888, \"#fdca26\"], [1.0, \"#f0f921\"]]}, \"colorway\": [\"#636efa\", \"#EF553B\", \"#00cc96\", \"#ab63fa\", \"#FFA15A\", \"#19d3f3\", \"#FF6692\", \"#B6E880\", \"#FF97FF\", \"#FECB52\"], \"font\": {\"color\": \"#2a3f5f\"}, \"geo\": {\"bgcolor\": \"white\", \"lakecolor\": \"white\", \"landcolor\": \"#E5ECF6\", \"showlakes\": true, \"showland\": true, \"subunitcolor\": \"white\"}, \"hoverlabel\": {\"align\": \"left\"}, \"hovermode\": \"closest\", \"mapbox\": {\"style\": \"light\"}, \"paper_bgcolor\": \"white\", \"plot_bgcolor\": \"#E5ECF6\", \"polar\": {\"angularaxis\": {\"gridcolor\": \"white\", \"linecolor\": \"white\", \"ticks\": \"\"}, \"bgcolor\": \"#E5ECF6\", \"radialaxis\": {\"gridcolor\": \"white\", \"linecolor\": \"white\", \"ticks\": \"\"}}, \"scene\": {\"xaxis\": {\"backgroundcolor\": \"#E5ECF6\", \"gridcolor\": \"white\", \"gridwidth\": 2, \"linecolor\": \"white\", \"showbackground\": true, \"ticks\": \"\", \"zerolinecolor\": \"white\"}, \"yaxis\": {\"backgroundcolor\": \"#E5ECF6\", \"gridcolor\": \"white\", \"gridwidth\": 2, \"linecolor\": \"white\", \"showbackground\": true, \"ticks\": \"\", \"zerolinecolor\": \"white\"}, \"zaxis\": {\"backgroundcolor\": \"#E5ECF6\", \"gridcolor\": \"white\", \"gridwidth\": 2, \"linecolor\": \"white\", \"showbackground\": true, \"ticks\": \"\", \"zerolinecolor\": \"white\"}}, \"shapedefaults\": {\"line\": {\"color\": \"#2a3f5f\"}}, \"ternary\": {\"aaxis\": {\"gridcolor\": \"white\", \"linecolor\": \"white\", \"ticks\": \"\"}, \"baxis\": {\"gridcolor\": \"white\", \"linecolor\": \"white\", \"ticks\": \"\"}, \"bgcolor\": \"#E5ECF6\", \"caxis\": {\"gridcolor\": \"white\", \"linecolor\": \"white\", \"ticks\": \"\"}}, \"title\": {\"x\": 0.05}, \"xaxis\": {\"automargin\": true, \"gridcolor\": \"white\", \"linecolor\": \"white\", \"ticks\": \"\", \"title\": {\"standoff\": 15}, \"zerolinecolor\": \"white\", \"zerolinewidth\": 2}, \"yaxis\": {\"automargin\": true, \"gridcolor\": \"white\", \"linecolor\": \"white\", \"ticks\": \"\", \"title\": {\"standoff\": 15}, \"zerolinecolor\": \"white\", \"zerolinewidth\": 2}}}, \"xaxis\": {\"anchor\": \"y\", \"domain\": [0.0, 1.0], \"title\": {\"text\": \"x\"}}, \"yaxis\": {\"anchor\": \"x\", \"domain\": [0.0, 1.0], \"title\": {\"text\": \"y\"}}},\n",
       "                        {\"responsive\": true}\n",
       "                    ).then(function(){\n",
       "                            \n",
       "var gd = document.getElementById('2075435e-9a1d-4e35-ab3c-63306f640203');\n",
       "var x = new MutationObserver(function (mutations, observer) {{\n",
       "        var display = window.getComputedStyle(gd).display;\n",
       "        if (!display || display === 'none') {{\n",
       "            console.log([gd, 'removed!']);\n",
       "            Plotly.purge(gd);\n",
       "            observer.disconnect();\n",
       "        }}\n",
       "}});\n",
       "\n",
       "// Listen for the removal of the full notebook cells\n",
       "var notebookContainer = gd.closest('#notebook-container');\n",
       "if (notebookContainer) {{\n",
       "    x.observe(notebookContainer, {childList: true});\n",
       "}}\n",
       "\n",
       "// Listen for the clearing of the current output cell\n",
       "var outputEl = gd.closest('.output');\n",
       "if (outputEl) {{\n",
       "    x.observe(outputEl, {childList: true});\n",
       "}}\n",
       "\n",
       "                        })\n",
       "                };\n",
       "                \n",
       "            </script>\n",
       "        </div>\n",
       "</body>\n",
       "</html>"
      ]
     },
     "metadata": {
      "tags": []
     },
     "output_type": "display_data"
    }
   ],
   "source": [
    "y_predtrain.reshape(81)\n",
    "y_train.reshape(81)\n",
    "import plotly.express as px\n",
    "fig = px.scatter(x=y_predtrain.reshape(81), y=y_train.reshape(81))\n",
    "fig.show()\n",
    "\n"
   ]
  },
  {
   "cell_type": "code",
   "execution_count": 32,
   "metadata": {
    "colab": {
     "base_uri": "https://localhost:8080/",
     "height": 542
    },
    "colab_type": "code",
    "id": "xeLimd_m6DR1",
    "outputId": "51ebb26b-5b2f-432e-8cd7-43abae9471cc"
   },
   "outputs": [
    {
     "data": {
      "text/html": [
       "<html>\n",
       "<head><meta charset=\"utf-8\" /></head>\n",
       "<body>\n",
       "    <div>\n",
       "            <script src=\"https://cdnjs.cloudflare.com/ajax/libs/mathjax/2.7.5/MathJax.js?config=TeX-AMS-MML_SVG\"></script><script type=\"text/javascript\">if (window.MathJax) {MathJax.Hub.Config({SVG: {font: \"STIX-Web\"}});}</script>\n",
       "                <script type=\"text/javascript\">window.PlotlyConfig = {MathJaxConfig: 'local'};</script>\n",
       "        <script src=\"https://cdn.plot.ly/plotly-latest.min.js\"></script>    \n",
       "            <div id=\"6437f2d8-977f-46f2-a5ed-2dc7b7f410ee\" class=\"plotly-graph-div\" style=\"height:525px; width:100%;\"></div>\n",
       "            <script type=\"text/javascript\">\n",
       "                \n",
       "                    window.PLOTLYENV=window.PLOTLYENV || {};\n",
       "                    \n",
       "                if (document.getElementById(\"6437f2d8-977f-46f2-a5ed-2dc7b7f410ee\")) {\n",
       "                    Plotly.newPlot(\n",
       "                        '6437f2d8-977f-46f2-a5ed-2dc7b7f410ee',\n",
       "                        [{\"marker\": {\"color\": \"rgba(100, 1, 0, .8)\", \"line\": {\"width\": 2}, \"size\": 5}, \"mode\": \"markers\", \"name\": \"sin\", \"type\": \"scatter\", \"x\": [321.64300537109375, 220.73553466796875, 314.8363342285156, 242.5353240966797, 344.4421081542969, 228.21707153320312, 356.41485595703125, 240.20834350585938, 333.6645812988281, 374.200439453125, 248.03839111328125, 373.5605163574219, 223.25225830078125, 303.3603515625, 237.71853637695312, 353.8633117675781, 329.7740173339844, 215.5428009033203, 237.92039489746094, 181.95257568359375, 329.41412353515625, 236.12591552734375, 288.0871887207031, 314.7415771484375, 342.4164123535156, 321.6614685058594, 274.3062744140625, 336.0358581542969, 303.0114440917969, 349.9704895019531, 223.25225830078125, 299.9752197265625, 240.57293701171875, 329.7696838378906, 244.59210205078125, 306.3409118652344, 304.78131103515625, 338.8119201660156, 324.759765625, 324.43341064453125, 254.53717041015625, 357.7867126464844, 239.5323486328125, 369.99871826171875, 296.5746765136719, 233.33682250976562, 346.8501892089844, 283.85931396484375, 359.4985656738281, 320.5959167480469, 346.0000305175781, 342.2087097167969, 249.90557861328125, 261.5863342285156, 288.4931335449219, 350.38116455078125, 233.33682250976562, 346.7121887207031, 349.77655029296875, 342.9870910644531, 253.9254150390625, 213.78013610839844, 341.5165710449219, 247.71005249023438, 243.46194458007812, 248.92872619628906, 292.2550964355469, 257.4982604980469, 257.88494873046875, 238.14788818359375, 361.9618835449219, 346.5608215332031, 353.3204650878906, 347.7493591308594, 333.8985290527344, 262.8117980957031, 250.02554321289062, 340.7859191894531, 228.85826110839844, 350.6891784667969, 300.2518005371094], \"y\": [320.0, 216.0, 316.0, 263.0, 364.0, 249.0, 360.0, 236.0, 339.0, 384.0, 270.0, 373.0, 223.0, 198.0, 215.0, 317.0, 347.0, 216.0, 238.0, 288.0, 323.0, 236.0, 277.0, 325.0, 349.0, 324.0, 283.0, 319.0, 311.0, 367.0, 223.0, 297.0, 217.0, 345.0, 243.0, 270.0, 358.0, 339.0, 324.0, 330.0, 247.0, 361.0, 223.0, 372.0, 310.0, 228.0, 389.0, 205.0, 371.0, 319.0, 358.0, 318.0, 251.0, 213.0, 286.0, 368.0, 228.0, 347.0, 358.0, 343.0, 251.0, 283.0, 343.0, 267.0, 241.0, 219.0, 250.0, 308.0, 250.0, 249.0, 351.0, 365.0, 359.0, 341.0, 339.0, 235.0, 270.0, 339.0, 218.0, 351.0, 233.0]}],\n",
       "                        {\"template\": {\"data\": {\"bar\": [{\"error_x\": {\"color\": \"#2a3f5f\"}, \"error_y\": {\"color\": \"#2a3f5f\"}, \"marker\": {\"line\": {\"color\": \"#E5ECF6\", \"width\": 0.5}}, \"type\": \"bar\"}], \"barpolar\": [{\"marker\": {\"line\": {\"color\": \"#E5ECF6\", \"width\": 0.5}}, \"type\": \"barpolar\"}], \"carpet\": [{\"aaxis\": {\"endlinecolor\": \"#2a3f5f\", \"gridcolor\": \"white\", \"linecolor\": \"white\", \"minorgridcolor\": \"white\", \"startlinecolor\": \"#2a3f5f\"}, \"baxis\": {\"endlinecolor\": \"#2a3f5f\", \"gridcolor\": \"white\", \"linecolor\": \"white\", \"minorgridcolor\": \"white\", \"startlinecolor\": \"#2a3f5f\"}, \"type\": \"carpet\"}], \"choropleth\": [{\"colorbar\": {\"outlinewidth\": 0, \"ticks\": \"\"}, \"type\": \"choropleth\"}], \"contour\": [{\"colorbar\": {\"outlinewidth\": 0, \"ticks\": \"\"}, \"colorscale\": [[0.0, \"#0d0887\"], [0.1111111111111111, \"#46039f\"], [0.2222222222222222, \"#7201a8\"], [0.3333333333333333, \"#9c179e\"], [0.4444444444444444, \"#bd3786\"], [0.5555555555555556, \"#d8576b\"], [0.6666666666666666, \"#ed7953\"], [0.7777777777777778, \"#fb9f3a\"], [0.8888888888888888, \"#fdca26\"], [1.0, \"#f0f921\"]], \"type\": \"contour\"}], \"contourcarpet\": [{\"colorbar\": {\"outlinewidth\": 0, \"ticks\": \"\"}, \"type\": \"contourcarpet\"}], \"heatmap\": [{\"colorbar\": {\"outlinewidth\": 0, \"ticks\": \"\"}, \"colorscale\": [[0.0, \"#0d0887\"], [0.1111111111111111, \"#46039f\"], [0.2222222222222222, \"#7201a8\"], [0.3333333333333333, \"#9c179e\"], [0.4444444444444444, \"#bd3786\"], [0.5555555555555556, \"#d8576b\"], [0.6666666666666666, \"#ed7953\"], [0.7777777777777778, \"#fb9f3a\"], [0.8888888888888888, \"#fdca26\"], [1.0, \"#f0f921\"]], \"type\": \"heatmap\"}], \"heatmapgl\": [{\"colorbar\": {\"outlinewidth\": 0, \"ticks\": \"\"}, \"colorscale\": [[0.0, \"#0d0887\"], [0.1111111111111111, \"#46039f\"], [0.2222222222222222, \"#7201a8\"], [0.3333333333333333, \"#9c179e\"], [0.4444444444444444, \"#bd3786\"], [0.5555555555555556, \"#d8576b\"], [0.6666666666666666, \"#ed7953\"], [0.7777777777777778, \"#fb9f3a\"], [0.8888888888888888, \"#fdca26\"], [1.0, \"#f0f921\"]], \"type\": \"heatmapgl\"}], \"histogram\": [{\"marker\": {\"colorbar\": {\"outlinewidth\": 0, \"ticks\": \"\"}}, \"type\": \"histogram\"}], \"histogram2d\": [{\"colorbar\": {\"outlinewidth\": 0, \"ticks\": \"\"}, \"colorscale\": [[0.0, \"#0d0887\"], [0.1111111111111111, \"#46039f\"], [0.2222222222222222, \"#7201a8\"], [0.3333333333333333, \"#9c179e\"], [0.4444444444444444, \"#bd3786\"], [0.5555555555555556, \"#d8576b\"], [0.6666666666666666, \"#ed7953\"], [0.7777777777777778, \"#fb9f3a\"], [0.8888888888888888, \"#fdca26\"], [1.0, \"#f0f921\"]], \"type\": \"histogram2d\"}], \"histogram2dcontour\": [{\"colorbar\": {\"outlinewidth\": 0, \"ticks\": \"\"}, \"colorscale\": [[0.0, \"#0d0887\"], [0.1111111111111111, \"#46039f\"], [0.2222222222222222, \"#7201a8\"], [0.3333333333333333, \"#9c179e\"], [0.4444444444444444, \"#bd3786\"], [0.5555555555555556, \"#d8576b\"], [0.6666666666666666, \"#ed7953\"], [0.7777777777777778, \"#fb9f3a\"], [0.8888888888888888, \"#fdca26\"], [1.0, \"#f0f921\"]], \"type\": \"histogram2dcontour\"}], \"mesh3d\": [{\"colorbar\": {\"outlinewidth\": 0, \"ticks\": \"\"}, \"type\": \"mesh3d\"}], \"parcoords\": [{\"line\": {\"colorbar\": {\"outlinewidth\": 0, \"ticks\": \"\"}}, \"type\": \"parcoords\"}], \"pie\": [{\"automargin\": true, \"type\": \"pie\"}], \"scatter\": [{\"marker\": {\"colorbar\": {\"outlinewidth\": 0, \"ticks\": \"\"}}, \"type\": \"scatter\"}], \"scatter3d\": [{\"line\": {\"colorbar\": {\"outlinewidth\": 0, \"ticks\": \"\"}}, \"marker\": {\"colorbar\": {\"outlinewidth\": 0, \"ticks\": \"\"}}, \"type\": \"scatter3d\"}], \"scattercarpet\": [{\"marker\": {\"colorbar\": {\"outlinewidth\": 0, \"ticks\": \"\"}}, \"type\": \"scattercarpet\"}], \"scattergeo\": [{\"marker\": {\"colorbar\": {\"outlinewidth\": 0, \"ticks\": \"\"}}, \"type\": \"scattergeo\"}], \"scattergl\": [{\"marker\": {\"colorbar\": {\"outlinewidth\": 0, \"ticks\": \"\"}}, \"type\": \"scattergl\"}], \"scattermapbox\": [{\"marker\": {\"colorbar\": {\"outlinewidth\": 0, \"ticks\": \"\"}}, \"type\": \"scattermapbox\"}], \"scatterpolar\": [{\"marker\": {\"colorbar\": {\"outlinewidth\": 0, \"ticks\": \"\"}}, \"type\": \"scatterpolar\"}], \"scatterpolargl\": [{\"marker\": {\"colorbar\": {\"outlinewidth\": 0, \"ticks\": \"\"}}, \"type\": \"scatterpolargl\"}], \"scatterternary\": [{\"marker\": {\"colorbar\": {\"outlinewidth\": 0, \"ticks\": \"\"}}, \"type\": \"scatterternary\"}], \"surface\": [{\"colorbar\": {\"outlinewidth\": 0, \"ticks\": \"\"}, \"colorscale\": [[0.0, \"#0d0887\"], [0.1111111111111111, \"#46039f\"], [0.2222222222222222, \"#7201a8\"], [0.3333333333333333, \"#9c179e\"], [0.4444444444444444, \"#bd3786\"], [0.5555555555555556, \"#d8576b\"], [0.6666666666666666, \"#ed7953\"], [0.7777777777777778, \"#fb9f3a\"], [0.8888888888888888, \"#fdca26\"], [1.0, \"#f0f921\"]], \"type\": \"surface\"}], \"table\": [{\"cells\": {\"fill\": {\"color\": \"#EBF0F8\"}, \"line\": {\"color\": \"white\"}}, \"header\": {\"fill\": {\"color\": \"#C8D4E3\"}, \"line\": {\"color\": \"white\"}}, \"type\": \"table\"}]}, \"layout\": {\"annotationdefaults\": {\"arrowcolor\": \"#2a3f5f\", \"arrowhead\": 0, \"arrowwidth\": 1}, \"coloraxis\": {\"colorbar\": {\"outlinewidth\": 0, \"ticks\": \"\"}}, \"colorscale\": {\"diverging\": [[0, \"#8e0152\"], [0.1, \"#c51b7d\"], [0.2, \"#de77ae\"], [0.3, \"#f1b6da\"], [0.4, \"#fde0ef\"], [0.5, \"#f7f7f7\"], [0.6, \"#e6f5d0\"], [0.7, \"#b8e186\"], [0.8, \"#7fbc41\"], [0.9, \"#4d9221\"], [1, \"#276419\"]], \"sequential\": [[0.0, \"#0d0887\"], [0.1111111111111111, \"#46039f\"], [0.2222222222222222, \"#7201a8\"], [0.3333333333333333, \"#9c179e\"], [0.4444444444444444, \"#bd3786\"], [0.5555555555555556, \"#d8576b\"], [0.6666666666666666, \"#ed7953\"], [0.7777777777777778, \"#fb9f3a\"], [0.8888888888888888, \"#fdca26\"], [1.0, \"#f0f921\"]], \"sequentialminus\": [[0.0, \"#0d0887\"], [0.1111111111111111, \"#46039f\"], [0.2222222222222222, \"#7201a8\"], [0.3333333333333333, \"#9c179e\"], [0.4444444444444444, \"#bd3786\"], [0.5555555555555556, \"#d8576b\"], [0.6666666666666666, \"#ed7953\"], [0.7777777777777778, \"#fb9f3a\"], [0.8888888888888888, \"#fdca26\"], [1.0, \"#f0f921\"]]}, \"colorway\": [\"#636efa\", \"#EF553B\", \"#00cc96\", \"#ab63fa\", \"#FFA15A\", \"#19d3f3\", \"#FF6692\", \"#B6E880\", \"#FF97FF\", \"#FECB52\"], \"font\": {\"color\": \"#2a3f5f\"}, \"geo\": {\"bgcolor\": \"white\", \"lakecolor\": \"white\", \"landcolor\": \"#E5ECF6\", \"showlakes\": true, \"showland\": true, \"subunitcolor\": \"white\"}, \"hoverlabel\": {\"align\": \"left\"}, \"hovermode\": \"closest\", \"mapbox\": {\"style\": \"light\"}, \"paper_bgcolor\": \"white\", \"plot_bgcolor\": \"#E5ECF6\", \"polar\": {\"angularaxis\": {\"gridcolor\": \"white\", \"linecolor\": \"white\", \"ticks\": \"\"}, \"bgcolor\": \"#E5ECF6\", \"radialaxis\": {\"gridcolor\": \"white\", \"linecolor\": \"white\", \"ticks\": \"\"}}, \"scene\": {\"xaxis\": {\"backgroundcolor\": \"#E5ECF6\", \"gridcolor\": \"white\", \"gridwidth\": 2, \"linecolor\": \"white\", \"showbackground\": true, \"ticks\": \"\", \"zerolinecolor\": \"white\"}, \"yaxis\": {\"backgroundcolor\": \"#E5ECF6\", \"gridcolor\": \"white\", \"gridwidth\": 2, \"linecolor\": \"white\", \"showbackground\": true, \"ticks\": \"\", \"zerolinecolor\": \"white\"}, \"zaxis\": {\"backgroundcolor\": \"#E5ECF6\", \"gridcolor\": \"white\", \"gridwidth\": 2, \"linecolor\": \"white\", \"showbackground\": true, \"ticks\": \"\", \"zerolinecolor\": \"white\"}}, \"shapedefaults\": {\"line\": {\"color\": \"#2a3f5f\"}}, \"ternary\": {\"aaxis\": {\"gridcolor\": \"white\", \"linecolor\": \"white\", \"ticks\": \"\"}, \"baxis\": {\"gridcolor\": \"white\", \"linecolor\": \"white\", \"ticks\": \"\"}, \"bgcolor\": \"#E5ECF6\", \"caxis\": {\"gridcolor\": \"white\", \"linecolor\": \"white\", \"ticks\": \"\"}}, \"title\": {\"x\": 0.05}, \"xaxis\": {\"automargin\": true, \"gridcolor\": \"white\", \"linecolor\": \"white\", \"ticks\": \"\", \"title\": {\"standoff\": 15}, \"zerolinecolor\": \"white\", \"zerolinewidth\": 2}, \"yaxis\": {\"automargin\": true, \"gridcolor\": \"white\", \"linecolor\": \"white\", \"ticks\": \"\", \"title\": {\"standoff\": 15}, \"zerolinecolor\": \"white\", \"zerolinewidth\": 2}}}, \"title\": {\"text\": \"Styled Scatter\"}, \"xaxis\": {\"zeroline\": false}, \"yaxis\": {\"zeroline\": false}},\n",
       "                        {\"responsive\": true}\n",
       "                    ).then(function(){\n",
       "                            \n",
       "var gd = document.getElementById('6437f2d8-977f-46f2-a5ed-2dc7b7f410ee');\n",
       "var x = new MutationObserver(function (mutations, observer) {{\n",
       "        var display = window.getComputedStyle(gd).display;\n",
       "        if (!display || display === 'none') {{\n",
       "            console.log([gd, 'removed!']);\n",
       "            Plotly.purge(gd);\n",
       "            observer.disconnect();\n",
       "        }}\n",
       "}});\n",
       "\n",
       "// Listen for the removal of the full notebook cells\n",
       "var notebookContainer = gd.closest('#notebook-container');\n",
       "if (notebookContainer) {{\n",
       "    x.observe(notebookContainer, {childList: true});\n",
       "}}\n",
       "\n",
       "// Listen for the clearing of the current output cell\n",
       "var outputEl = gd.closest('.output');\n",
       "if (outputEl) {{\n",
       "    x.observe(outputEl, {childList: true});\n",
       "}}\n",
       "\n",
       "                        })\n",
       "                };\n",
       "                \n",
       "            </script>\n",
       "        </div>\n",
       "</body>\n",
       "</html>"
      ]
     },
     "metadata": {
      "tags": []
     },
     "output_type": "display_data"
    }
   ],
   "source": [
    "import plotly.graph_objects as go\n",
    "import numpy as np\n",
    "\n",
    "\n",
    "\n",
    "\n",
    "fig = go.Figure()\n",
    "\n",
    "fig.add_trace(go.Scatter(\n",
    "    x=y_predtrain.reshape(81), y=y_train.reshape(81),\n",
    "    name='sin',\n",
    "    mode='markers',\n",
    "    marker_color='rgba(100, 1, 0, .8)'))\n",
    "\n",
    "fig.update_traces(mode='markers', marker_line_width=2, marker_size=5)\n",
    "fig.update_layout(title='Styled Scatter',\n",
    "                  yaxis_zeroline=False, xaxis_zeroline=False)\n",
    "fig.show()\n"
   ]
  },
  {
   "cell_type": "code",
   "execution_count": 33,
   "metadata": {
    "colab": {
     "base_uri": "https://localhost:8080/",
     "height": 542
    },
    "colab_type": "code",
    "id": "EmvMoLlqBGRi",
    "outputId": "b3eb6f4f-5ff3-4a88-ab3c-c3665f8f562b"
   },
   "outputs": [
    {
     "data": {
      "text/html": [
       "<html>\n",
       "<head><meta charset=\"utf-8\" /></head>\n",
       "<body>\n",
       "    <div>\n",
       "            <script src=\"https://cdnjs.cloudflare.com/ajax/libs/mathjax/2.7.5/MathJax.js?config=TeX-AMS-MML_SVG\"></script><script type=\"text/javascript\">if (window.MathJax) {MathJax.Hub.Config({SVG: {font: \"STIX-Web\"}});}</script>\n",
       "                <script type=\"text/javascript\">window.PlotlyConfig = {MathJaxConfig: 'local'};</script>\n",
       "        <script src=\"https://cdn.plot.ly/plotly-latest.min.js\"></script>    \n",
       "            <div id=\"17cb7742-9804-4071-b309-c510a7ba0d63\" class=\"plotly-graph-div\" style=\"height:525px; width:100%;\"></div>\n",
       "            <script type=\"text/javascript\">\n",
       "                \n",
       "                    window.PLOTLYENV=window.PLOTLYENV || {};\n",
       "                    \n",
       "                if (document.getElementById(\"17cb7742-9804-4071-b309-c510a7ba0d63\")) {\n",
       "                    Plotly.newPlot(\n",
       "                        '17cb7742-9804-4071-b309-c510a7ba0d63',\n",
       "                        [{\"marker\": {\"color\": [-0.3721408238395516, 0.20001969818075066, -1.0501841975838109, 0.11834942912088547, 0.025869032351205322, -0.20285474124481773, -0.12746045537741324, -0.2576412941795542, 0.4761187103329842, 0.3112043938662339, 0.8942954978379175, 0.5107586546579909, -2.4475671731764552, -0.6137959149981687, 0.09504048958375472, -0.10570044223903285, 1.7937984415348531, -1.2941910557892908, -0.4685744842417498, -0.6333653754526093, 0.10958396784728855, 1.190346912343781, -1.1283675928196921, -0.6869493989511499, -0.4140303470225769, 0.4122117336894339, -0.24242044973375412, -2.3969369640615215, 0.21910150771436535, 1.0469117275084698, 1.3796986916385428, -1.6145215550134868, 0.8828264192121182, -1.4582700295495163, -0.28591133396038637, -0.7485652177597312, -0.23798373626377048, 0.3543607274496775, 1.5903259414845767, -0.40257051557185075, 0.7658631797873955, -0.7461566214934028, 0.47008843208680007, 0.9922701724054578, -0.4630848008044787, -0.06000963055868785, -0.24562604327579127, -0.6312848145619824, 1.33086491364157, 0.05306503324355781, -0.5702950576266628, 2.009182666385643, -2.022329538975557, -1.0174872599440585, 1.6893292948535754, -0.3935962172812545, -0.5385068436823318, -0.9843029995268556, 0.37088894460779925, -0.47028649373229325, -2.6873923307878385, -0.4555920662189922, 1.1899762190779426, 0.1919653968727213, -0.670851059923943, 0.4922870211521785, 1.5425673522692962, -0.3974694530410678, 0.9282054269361116, -1.0197863754338798, 0.5416387965929873, -1.4494204912292288, 0.17757702371516476, 0.04128594585546006, -0.6473704595668842, 2.07769521574652, -0.8473960551390629, -1.007074303253371, 0.15815496891088124, 0.05495737488508464, -1.2065676302356108], \"colorscale\": [[0.0, \"#440154\"], [0.1111111111111111, \"#482878\"], [0.2222222222222222, \"#3e4989\"], [0.3333333333333333, \"#31688e\"], [0.4444444444444444, \"#26828e\"], [0.5555555555555556, \"#1f9e89\"], [0.6666666666666666, \"#35b779\"], [0.7777777777777778, \"#6ece58\"], [0.8888888888888888, \"#b5de2b\"], [1.0, \"#fde725\"]], \"line\": {\"width\": 2}}, \"mode\": \"markers\", \"type\": \"scattergl\", \"x\": [321.64300537109375, 220.73553466796875, 314.8363342285156, 242.5353240966797, 344.4421081542969, 228.21707153320312, 356.41485595703125, 240.20834350585938, 333.6645812988281, 374.200439453125, 248.03839111328125, 373.5605163574219, 223.25225830078125, 303.3603515625, 237.71853637695312, 353.8633117675781, 329.7740173339844, 215.5428009033203, 237.92039489746094, 181.95257568359375, 329.41412353515625, 236.12591552734375, 288.0871887207031, 314.7415771484375, 342.4164123535156, 321.6614685058594, 274.3062744140625, 336.0358581542969, 303.0114440917969, 349.9704895019531, 223.25225830078125, 299.9752197265625, 240.57293701171875, 329.7696838378906, 244.59210205078125, 306.3409118652344, 304.78131103515625, 338.8119201660156, 324.759765625, 324.43341064453125, 254.53717041015625, 357.7867126464844, 239.5323486328125, 369.99871826171875, 296.5746765136719, 233.33682250976562, 346.8501892089844, 283.85931396484375, 359.4985656738281, 320.5959167480469, 346.0000305175781, 342.2087097167969, 249.90557861328125, 261.5863342285156, 288.4931335449219, 350.38116455078125, 233.33682250976562, 346.7121887207031, 349.77655029296875, 342.9870910644531, 253.9254150390625, 213.78013610839844, 341.5165710449219, 247.71005249023438, 243.46194458007812, 248.92872619628906, 292.2550964355469, 257.4982604980469, 257.88494873046875, 238.14788818359375, 361.9618835449219, 346.5608215332031, 353.3204650878906, 347.7493591308594, 333.8985290527344, 262.8117980957031, 250.02554321289062, 340.7859191894531, 228.85826110839844, 350.6891784667969, 300.2518005371094], \"y\": [320.0, 216.0, 316.0, 263.0, 364.0, 249.0, 360.0, 236.0, 339.0, 384.0, 270.0, 373.0, 223.0, 198.0, 215.0, 317.0, 347.0, 216.0, 238.0, 288.0, 323.0, 236.0, 277.0, 325.0, 349.0, 324.0, 283.0, 319.0, 311.0, 367.0, 223.0, 297.0, 217.0, 345.0, 243.0, 270.0, 358.0, 339.0, 324.0, 330.0, 247.0, 361.0, 223.0, 372.0, 310.0, 228.0, 389.0, 205.0, 371.0, 319.0, 358.0, 318.0, 251.0, 213.0, 286.0, 368.0, 228.0, 347.0, 358.0, 343.0, 251.0, 283.0, 343.0, 267.0, 241.0, 219.0, 250.0, 308.0, 250.0, 249.0, 351.0, 365.0, 359.0, 341.0, 339.0, 235.0, 270.0, 339.0, 218.0, 351.0, 233.0]}],\n",
       "                        {\"template\": {\"data\": {\"bar\": [{\"error_x\": {\"color\": \"#2a3f5f\"}, \"error_y\": {\"color\": \"#2a3f5f\"}, \"marker\": {\"line\": {\"color\": \"#E5ECF6\", \"width\": 0.5}}, \"type\": \"bar\"}], \"barpolar\": [{\"marker\": {\"line\": {\"color\": \"#E5ECF6\", \"width\": 0.5}}, \"type\": \"barpolar\"}], \"carpet\": [{\"aaxis\": {\"endlinecolor\": \"#2a3f5f\", \"gridcolor\": \"white\", \"linecolor\": \"white\", \"minorgridcolor\": \"white\", \"startlinecolor\": \"#2a3f5f\"}, \"baxis\": {\"endlinecolor\": \"#2a3f5f\", \"gridcolor\": \"white\", \"linecolor\": \"white\", \"minorgridcolor\": \"white\", \"startlinecolor\": \"#2a3f5f\"}, \"type\": \"carpet\"}], \"choropleth\": [{\"colorbar\": {\"outlinewidth\": 0, \"ticks\": \"\"}, \"type\": \"choropleth\"}], \"contour\": [{\"colorbar\": {\"outlinewidth\": 0, \"ticks\": \"\"}, \"colorscale\": [[0.0, \"#0d0887\"], [0.1111111111111111, \"#46039f\"], [0.2222222222222222, \"#7201a8\"], [0.3333333333333333, \"#9c179e\"], [0.4444444444444444, \"#bd3786\"], [0.5555555555555556, \"#d8576b\"], [0.6666666666666666, \"#ed7953\"], [0.7777777777777778, \"#fb9f3a\"], [0.8888888888888888, \"#fdca26\"], [1.0, \"#f0f921\"]], \"type\": \"contour\"}], \"contourcarpet\": [{\"colorbar\": {\"outlinewidth\": 0, \"ticks\": \"\"}, \"type\": \"contourcarpet\"}], \"heatmap\": [{\"colorbar\": {\"outlinewidth\": 0, \"ticks\": \"\"}, \"colorscale\": [[0.0, \"#0d0887\"], [0.1111111111111111, \"#46039f\"], [0.2222222222222222, \"#7201a8\"], [0.3333333333333333, \"#9c179e\"], [0.4444444444444444, \"#bd3786\"], [0.5555555555555556, \"#d8576b\"], [0.6666666666666666, \"#ed7953\"], [0.7777777777777778, \"#fb9f3a\"], [0.8888888888888888, \"#fdca26\"], [1.0, \"#f0f921\"]], \"type\": \"heatmap\"}], \"heatmapgl\": [{\"colorbar\": {\"outlinewidth\": 0, \"ticks\": \"\"}, \"colorscale\": [[0.0, \"#0d0887\"], [0.1111111111111111, \"#46039f\"], [0.2222222222222222, \"#7201a8\"], [0.3333333333333333, \"#9c179e\"], [0.4444444444444444, \"#bd3786\"], [0.5555555555555556, \"#d8576b\"], [0.6666666666666666, \"#ed7953\"], [0.7777777777777778, \"#fb9f3a\"], [0.8888888888888888, \"#fdca26\"], [1.0, \"#f0f921\"]], \"type\": \"heatmapgl\"}], \"histogram\": [{\"marker\": {\"colorbar\": {\"outlinewidth\": 0, \"ticks\": \"\"}}, \"type\": \"histogram\"}], \"histogram2d\": [{\"colorbar\": {\"outlinewidth\": 0, \"ticks\": \"\"}, \"colorscale\": [[0.0, \"#0d0887\"], [0.1111111111111111, \"#46039f\"], [0.2222222222222222, \"#7201a8\"], [0.3333333333333333, \"#9c179e\"], [0.4444444444444444, \"#bd3786\"], [0.5555555555555556, \"#d8576b\"], [0.6666666666666666, \"#ed7953\"], [0.7777777777777778, \"#fb9f3a\"], [0.8888888888888888, \"#fdca26\"], [1.0, \"#f0f921\"]], \"type\": \"histogram2d\"}], \"histogram2dcontour\": [{\"colorbar\": {\"outlinewidth\": 0, \"ticks\": \"\"}, \"colorscale\": [[0.0, \"#0d0887\"], [0.1111111111111111, \"#46039f\"], [0.2222222222222222, \"#7201a8\"], [0.3333333333333333, \"#9c179e\"], [0.4444444444444444, \"#bd3786\"], [0.5555555555555556, \"#d8576b\"], [0.6666666666666666, \"#ed7953\"], [0.7777777777777778, \"#fb9f3a\"], [0.8888888888888888, \"#fdca26\"], [1.0, \"#f0f921\"]], \"type\": \"histogram2dcontour\"}], \"mesh3d\": [{\"colorbar\": {\"outlinewidth\": 0, \"ticks\": \"\"}, \"type\": \"mesh3d\"}], \"parcoords\": [{\"line\": {\"colorbar\": {\"outlinewidth\": 0, \"ticks\": \"\"}}, \"type\": \"parcoords\"}], \"pie\": [{\"automargin\": true, \"type\": \"pie\"}], \"scatter\": [{\"marker\": {\"colorbar\": {\"outlinewidth\": 0, \"ticks\": \"\"}}, \"type\": \"scatter\"}], \"scatter3d\": [{\"line\": {\"colorbar\": {\"outlinewidth\": 0, \"ticks\": \"\"}}, \"marker\": {\"colorbar\": {\"outlinewidth\": 0, \"ticks\": \"\"}}, \"type\": \"scatter3d\"}], \"scattercarpet\": [{\"marker\": {\"colorbar\": {\"outlinewidth\": 0, \"ticks\": \"\"}}, \"type\": \"scattercarpet\"}], \"scattergeo\": [{\"marker\": {\"colorbar\": {\"outlinewidth\": 0, \"ticks\": \"\"}}, \"type\": \"scattergeo\"}], \"scattergl\": [{\"marker\": {\"colorbar\": {\"outlinewidth\": 0, \"ticks\": \"\"}}, \"type\": \"scattergl\"}], \"scattermapbox\": [{\"marker\": {\"colorbar\": {\"outlinewidth\": 0, \"ticks\": \"\"}}, \"type\": \"scattermapbox\"}], \"scatterpolar\": [{\"marker\": {\"colorbar\": {\"outlinewidth\": 0, \"ticks\": \"\"}}, \"type\": \"scatterpolar\"}], \"scatterpolargl\": [{\"marker\": {\"colorbar\": {\"outlinewidth\": 0, \"ticks\": \"\"}}, \"type\": \"scatterpolargl\"}], \"scatterternary\": [{\"marker\": {\"colorbar\": {\"outlinewidth\": 0, \"ticks\": \"\"}}, \"type\": \"scatterternary\"}], \"surface\": [{\"colorbar\": {\"outlinewidth\": 0, \"ticks\": \"\"}, \"colorscale\": [[0.0, \"#0d0887\"], [0.1111111111111111, \"#46039f\"], [0.2222222222222222, \"#7201a8\"], [0.3333333333333333, \"#9c179e\"], [0.4444444444444444, \"#bd3786\"], [0.5555555555555556, \"#d8576b\"], [0.6666666666666666, \"#ed7953\"], [0.7777777777777778, \"#fb9f3a\"], [0.8888888888888888, \"#fdca26\"], [1.0, \"#f0f921\"]], \"type\": \"surface\"}], \"table\": [{\"cells\": {\"fill\": {\"color\": \"#EBF0F8\"}, \"line\": {\"color\": \"white\"}}, \"header\": {\"fill\": {\"color\": \"#C8D4E3\"}, \"line\": {\"color\": \"white\"}}, \"type\": \"table\"}]}, \"layout\": {\"annotationdefaults\": {\"arrowcolor\": \"#2a3f5f\", \"arrowhead\": 0, \"arrowwidth\": 1}, \"coloraxis\": {\"colorbar\": {\"outlinewidth\": 0, \"ticks\": \"\"}}, \"colorscale\": {\"diverging\": [[0, \"#8e0152\"], [0.1, \"#c51b7d\"], [0.2, \"#de77ae\"], [0.3, \"#f1b6da\"], [0.4, \"#fde0ef\"], [0.5, \"#f7f7f7\"], [0.6, \"#e6f5d0\"], [0.7, \"#b8e186\"], [0.8, \"#7fbc41\"], [0.9, \"#4d9221\"], [1, \"#276419\"]], \"sequential\": [[0.0, \"#0d0887\"], [0.1111111111111111, \"#46039f\"], [0.2222222222222222, \"#7201a8\"], [0.3333333333333333, \"#9c179e\"], [0.4444444444444444, \"#bd3786\"], [0.5555555555555556, \"#d8576b\"], [0.6666666666666666, \"#ed7953\"], [0.7777777777777778, \"#fb9f3a\"], [0.8888888888888888, \"#fdca26\"], [1.0, \"#f0f921\"]], \"sequentialminus\": [[0.0, \"#0d0887\"], [0.1111111111111111, \"#46039f\"], [0.2222222222222222, \"#7201a8\"], [0.3333333333333333, \"#9c179e\"], [0.4444444444444444, \"#bd3786\"], [0.5555555555555556, \"#d8576b\"], [0.6666666666666666, \"#ed7953\"], [0.7777777777777778, \"#fb9f3a\"], [0.8888888888888888, \"#fdca26\"], [1.0, \"#f0f921\"]]}, \"colorway\": [\"#636efa\", \"#EF553B\", \"#00cc96\", \"#ab63fa\", \"#FFA15A\", \"#19d3f3\", \"#FF6692\", \"#B6E880\", \"#FF97FF\", \"#FECB52\"], \"font\": {\"color\": \"#2a3f5f\"}, \"geo\": {\"bgcolor\": \"white\", \"lakecolor\": \"white\", \"landcolor\": \"#E5ECF6\", \"showlakes\": true, \"showland\": true, \"subunitcolor\": \"white\"}, \"hoverlabel\": {\"align\": \"left\"}, \"hovermode\": \"closest\", \"mapbox\": {\"style\": \"light\"}, \"paper_bgcolor\": \"white\", \"plot_bgcolor\": \"#E5ECF6\", \"polar\": {\"angularaxis\": {\"gridcolor\": \"white\", \"linecolor\": \"white\", \"ticks\": \"\"}, \"bgcolor\": \"#E5ECF6\", \"radialaxis\": {\"gridcolor\": \"white\", \"linecolor\": \"white\", \"ticks\": \"\"}}, \"scene\": {\"xaxis\": {\"backgroundcolor\": \"#E5ECF6\", \"gridcolor\": \"white\", \"gridwidth\": 2, \"linecolor\": \"white\", \"showbackground\": true, \"ticks\": \"\", \"zerolinecolor\": \"white\"}, \"yaxis\": {\"backgroundcolor\": \"#E5ECF6\", \"gridcolor\": \"white\", \"gridwidth\": 2, \"linecolor\": \"white\", \"showbackground\": true, \"ticks\": \"\", \"zerolinecolor\": \"white\"}, \"zaxis\": {\"backgroundcolor\": \"#E5ECF6\", \"gridcolor\": \"white\", \"gridwidth\": 2, \"linecolor\": \"white\", \"showbackground\": true, \"ticks\": \"\", \"zerolinecolor\": \"white\"}}, \"shapedefaults\": {\"line\": {\"color\": \"#2a3f5f\"}}, \"ternary\": {\"aaxis\": {\"gridcolor\": \"white\", \"linecolor\": \"white\", \"ticks\": \"\"}, \"baxis\": {\"gridcolor\": \"white\", \"linecolor\": \"white\", \"ticks\": \"\"}, \"bgcolor\": \"#E5ECF6\", \"caxis\": {\"gridcolor\": \"white\", \"linecolor\": \"white\", \"ticks\": \"\"}}, \"title\": {\"x\": 0.05}, \"xaxis\": {\"automargin\": true, \"gridcolor\": \"white\", \"linecolor\": \"white\", \"ticks\": \"\", \"title\": {\"standoff\": 15}, \"zerolinecolor\": \"white\", \"zerolinewidth\": 2}, \"yaxis\": {\"automargin\": true, \"gridcolor\": \"white\", \"linecolor\": \"white\", \"ticks\": \"\", \"title\": {\"standoff\": 15}, \"zerolinecolor\": \"white\", \"zerolinewidth\": 2}}}},\n",
       "                        {\"responsive\": true}\n",
       "                    ).then(function(){\n",
       "                            \n",
       "var gd = document.getElementById('17cb7742-9804-4071-b309-c510a7ba0d63');\n",
       "var x = new MutationObserver(function (mutations, observer) {{\n",
       "        var display = window.getComputedStyle(gd).display;\n",
       "        if (!display || display === 'none') {{\n",
       "            console.log([gd, 'removed!']);\n",
       "            Plotly.purge(gd);\n",
       "            observer.disconnect();\n",
       "        }}\n",
       "}});\n",
       "\n",
       "// Listen for the removal of the full notebook cells\n",
       "var notebookContainer = gd.closest('#notebook-container');\n",
       "if (notebookContainer) {{\n",
       "    x.observe(notebookContainer, {childList: true});\n",
       "}}\n",
       "\n",
       "// Listen for the clearing of the current output cell\n",
       "var outputEl = gd.closest('.output');\n",
       "if (outputEl) {{\n",
       "    x.observe(outputEl, {childList: true});\n",
       "}}\n",
       "\n",
       "                        })\n",
       "                };\n",
       "                \n",
       "            </script>\n",
       "        </div>\n",
       "</body>\n",
       "</html>"
      ]
     },
     "metadata": {
      "tags": []
     },
     "output_type": "display_data"
    }
   ],
   "source": [
    "import plotly.graph_objects as go\n",
    "import numpy as np\n",
    "\n",
    "fig = go.Figure(data=go.Scattergl(\n",
    "    x = y_predtrain.reshape(81),\n",
    "    y = y_train.reshape(81),\n",
    "    mode='markers',\n",
    "    marker=dict(\n",
    "        color=np.random.randn(81),\n",
    "        colorscale='Viridis',\n",
    "        line_width=2\n",
    "    )\n",
    "))\n",
    "\n",
    "fig.show()"
   ]
  },
  {
   "cell_type": "code",
   "execution_count": 45,
   "metadata": {
    "colab": {
     "base_uri": "https://localhost:8080/",
     "height": 430
    },
    "colab_type": "code",
    "id": "iGY3gAAVIjhv",
    "outputId": "7fedd20d-04d7-4212-b69d-70fc9c7d7240"
   },
   "outputs": [
    {
     "data": {
      "image/png": "[encoded data removed]",
      "text/plain": [
       "<Figure size 1080x504 with 1 Axes>"
      ]
     },
     "metadata": {
      "needs_background": "light",
      "tags": []
     },
     "output_type": "display_data"
    }
   ],
   "source": [
    "plt.figure(figsize=(15,7))\n",
    "plt.plot(Model.history[\"loss\"],color='r', linewidth=2.75, linestyle='-', marker='.', markersize=15,markerfacecolor='b',\n",
    "         markeredgecolor='black',\n",
    "         markeredgewidth=1,label=\"Training Loss\")\n",
    "plt.plot(Model.history['val_loss'],color='black', linewidth=2.75, linestyle='-', marker='.', markersize=15,markerfacecolor='brown',\n",
    "         markeredgecolor='black',\n",
    "         markeredgewidth=1,label=\"Validation Loss\")\n",
    "plt.xlabel(\"Number of Epochs\",size=20,color=\"black\")\n",
    "plt.ylabel(\"Loss\",size=20,color=\"black\")\n",
    "plt.xticks(size=20)\n",
    "plt.yticks(size=20)\n",
    "plt.title(\"Mean Absolute Error vs Number of Epochs\",size=20)\n",
    "plt.legend()\n",
    "plt.show()"
   ]
  },
  {
   "cell_type": "markdown",
   "metadata": {
    "colab_type": "text",
    "id": "PnZrusg1MIDp"
   },
   "source": [
    "### Neural Network using Bond Features"
   ]
  },
  {
   "cell_type": "code",
   "execution_count": 155,
   "metadata": {
    "colab": {},
    "colab_type": "code",
    "id": "kTXE-qJp3HMa"
   },
   "outputs": [],
   "source": [
    "mw={\"C\":12,\"c\":12,\"O\":16,\"o\":16,\"N\":14,\"F\":19}\n",
    "def Molecular_Weight(text):\n",
    "  Mass=[]\n",
    "  for elements in text:\n",
    "    if elements==\"C\":\n",
    "      Mass.append(mw[elements])\n",
    "    elif elements==\"c\":\n",
    "      Mass.append(mw[elements])\n",
    "    elif elements==\"o\":\n",
    "      Mass.append(mw[elements])\n",
    "    elif elements==\"O\":\n",
    "      Mass.append(mw[elements])\n",
    "    elif elements==\"F\":\n",
    "      Mass.append(mw[elements])\n",
    "    elif elements==\"N\":\n",
    "      Mass.append(mw[elements])  \n",
    "  return sum(Mass)"
   ]
  },
  {
   "cell_type": "code",
   "execution_count": 1,
   "metadata": {
    "colab": {},
    "colab_type": "code",
    "id": "PBNC8xSYeoYe"
   },
   "outputs": [
    {
     "ename": "NameError",
     "evalue": "name 'df' is not defined",
     "output_type": "error",
     "traceback": [
      "\u001b[1;31m---------------------------------------------------------------------------\u001b[0m",
      "\u001b[1;31mNameError\u001b[0m                                 Traceback (most recent call last)",
      "\u001b[1;32m<ipython-input-1-38028a7285c0>\u001b[0m in \u001b[0;36m<module>\u001b[1;34m\u001b[0m\n\u001b[1;32m----> 1\u001b[1;33m \u001b[0mdf\u001b[0m\u001b[1;33m[\u001b[0m\u001b[1;34m\"C_Atoms_Ring\"\u001b[0m\u001b[1;33m]\u001b[0m\u001b[1;33m=\u001b[0m\u001b[0mdf\u001b[0m\u001b[1;33m[\u001b[0m\u001b[1;34m\"Molecular Structure\"\u001b[0m\u001b[1;33m]\u001b[0m\u001b[1;33m.\u001b[0m\u001b[0mapply\u001b[0m\u001b[1;33m(\u001b[0m\u001b[1;32mlambda\u001b[0m \u001b[0mx\u001b[0m\u001b[1;33m:\u001b[0m \u001b[0mx\u001b[0m\u001b[1;33m.\u001b[0m\u001b[0mcount\u001b[0m\u001b[1;33m(\u001b[0m\u001b[1;34m'c'\u001b[0m\u001b[1;33m)\u001b[0m\u001b[1;33m)\u001b[0m\u001b[1;33m\u001b[0m\u001b[1;33m\u001b[0m\u001b[0m\n\u001b[0m\u001b[0;32m      2\u001b[0m \u001b[0mdf\u001b[0m\u001b[1;33m[\u001b[0m\u001b[1;34m\"C_Atoms_Chain\"\u001b[0m\u001b[1;33m]\u001b[0m\u001b[1;33m=\u001b[0m\u001b[0mdf\u001b[0m\u001b[1;33m[\u001b[0m\u001b[1;34m\"Molecular Structure\"\u001b[0m\u001b[1;33m]\u001b[0m\u001b[1;33m.\u001b[0m\u001b[0mapply\u001b[0m\u001b[1;33m(\u001b[0m\u001b[1;32mlambda\u001b[0m \u001b[0mx\u001b[0m\u001b[1;33m:\u001b[0m \u001b[0mx\u001b[0m\u001b[1;33m.\u001b[0m\u001b[0mcount\u001b[0m\u001b[1;33m(\u001b[0m\u001b[1;34m'C'\u001b[0m\u001b[1;33m)\u001b[0m\u001b[1;33m)\u001b[0m\u001b[1;33m\u001b[0m\u001b[1;33m\u001b[0m\u001b[0m\n\u001b[0;32m      3\u001b[0m \u001b[0mdf\u001b[0m\u001b[1;33m[\u001b[0m\u001b[1;34m\"O_Atoms_Chain\"\u001b[0m\u001b[1;33m]\u001b[0m\u001b[1;33m=\u001b[0m\u001b[0mdf\u001b[0m\u001b[1;33m[\u001b[0m\u001b[1;34m\"Molecular Structure\"\u001b[0m\u001b[1;33m]\u001b[0m\u001b[1;33m.\u001b[0m\u001b[0mapply\u001b[0m\u001b[1;33m(\u001b[0m\u001b[1;32mlambda\u001b[0m \u001b[0mx\u001b[0m\u001b[1;33m:\u001b[0m \u001b[0mx\u001b[0m\u001b[1;33m.\u001b[0m\u001b[0mcount\u001b[0m\u001b[1;33m(\u001b[0m\u001b[1;34m'O'\u001b[0m\u001b[1;33m)\u001b[0m\u001b[1;33m)\u001b[0m\u001b[1;33m\u001b[0m\u001b[1;33m\u001b[0m\u001b[0m\n\u001b[0;32m      4\u001b[0m \u001b[0mdf\u001b[0m\u001b[1;33m[\u001b[0m\u001b[1;34m\"O_Atoms_Ring\"\u001b[0m\u001b[1;33m]\u001b[0m\u001b[1;33m=\u001b[0m\u001b[0mdf\u001b[0m\u001b[1;33m[\u001b[0m\u001b[1;34m\"Molecular Structure\"\u001b[0m\u001b[1;33m]\u001b[0m\u001b[1;33m.\u001b[0m\u001b[0mapply\u001b[0m\u001b[1;33m(\u001b[0m\u001b[1;32mlambda\u001b[0m \u001b[0mx\u001b[0m\u001b[1;33m:\u001b[0m \u001b[0mx\u001b[0m\u001b[1;33m.\u001b[0m\u001b[0mcount\u001b[0m\u001b[1;33m(\u001b[0m\u001b[1;34m'o'\u001b[0m\u001b[1;33m)\u001b[0m\u001b[1;33m)\u001b[0m\u001b[1;33m\u001b[0m\u001b[1;33m\u001b[0m\u001b[0m\n\u001b[0;32m      5\u001b[0m \u001b[0mdf\u001b[0m\u001b[1;33m[\u001b[0m\u001b[1;34m\"N_Double Bonds_Ring\"\u001b[0m\u001b[1;33m]\u001b[0m\u001b[1;33m=\u001b[0m\u001b[0mdf\u001b[0m\u001b[1;33m[\u001b[0m\u001b[1;34m\"Molecular Structure\"\u001b[0m\u001b[1;33m]\u001b[0m\u001b[1;33m.\u001b[0m\u001b[0mapply\u001b[0m\u001b[1;33m(\u001b[0m\u001b[1;32mlambda\u001b[0m \u001b[0mx\u001b[0m\u001b[1;33m:\u001b[0m \u001b[0mx\u001b[0m\u001b[1;33m.\u001b[0m\u001b[0mcount\u001b[0m\u001b[1;33m(\u001b[0m\u001b[1;34m'c'\u001b[0m\u001b[1;33m)\u001b[0m\u001b[1;33m/\u001b[0m\u001b[1;36m2\u001b[0m\u001b[1;33m)\u001b[0m\u001b[1;33m\u001b[0m\u001b[1;33m\u001b[0m\u001b[0m\n",
      "\u001b[1;31mNameError\u001b[0m: name 'df' is not defined"
     ]
    }
   ],
   "source": [
    "df[\"C_Atoms_Ring\"]=df[\"Molecular Structure\"].apply(lambda x: x.count('c'))\n",
    "df[\"C_Atoms_Chain\"]=df[\"Molecular Structure\"].apply(lambda x: x.count('C'))\n",
    "df[\"O_Atoms_Chain\"]=df[\"Molecular Structure\"].apply(lambda x: x.count('O'))\n",
    "df[\"O_Atoms_Ring\"]=df[\"Molecular Structure\"].apply(lambda x: x.count('o'))\n",
    "df[\"N_Double Bonds_Ring\"]=df[\"Molecular Structure\"].apply(lambda x: x.count('c')/2)\n",
    "df[\"N_Double Bonds_Chain\"]=df[\"Molecular Structure\"].apply(lambda x: x.count('='))\n",
    "df[\"Nitrogen_Atoms\"]=df[\"Molecular Structure\"].apply(lambda x: x.count('N'))\n",
    "df[\"F_Atoms\"]=df[\"Molecular Structure\"].apply(lambda x: x.count('F'))\n",
    "df[\"MW\"]=df[\"Molecular Structure\"].apply(lambda x: Molecular_Weight(x))\n",
    "df[\"Total Number of Atoms\"]=df[\"Molecular Structure\"].apply(lambda x: len(x))\n",
    "df[\"Number of Single Bonds\"]=df[\"Molecular Structure\"].apply(lambda x:len(x)-x.count('=')-1)"
   ]
  },
  {
   "cell_type": "code",
   "execution_count": 231,
   "metadata": {
    "colab": {
     "base_uri": "https://localhost:8080/",
     "height": 443
    },
    "colab_type": "code",
    "id": "slS7-juz24iB",
    "outputId": "717cf942-5012-4532-8187-2e0630cac191"
   },
   "outputs": [
    {
     "data": {
      "text/html": [
       "<div>\n",
       "<style scoped>\n",
       "    .dataframe tbody tr th:only-of-type {\n",
       "        vertical-align: middle;\n",
       "    }\n",
       "\n",
       "    .dataframe tbody tr th {\n",
       "        vertical-align: top;\n",
       "    }\n",
       "\n",
       "    .dataframe thead th {\n",
       "        text-align: right;\n",
       "    }\n",
       "</style>\n",
       "<table border=\"1\" class=\"dataframe\">\n",
       "  <thead>\n",
       "    <tr style=\"text-align: right;\">\n",
       "      <th></th>\n",
       "      <th>Nomenclature Name</th>\n",
       "      <th>Molecular Structure</th>\n",
       "      <th>Tg</th>\n",
       "      <th>Number of Carbon Atoms in Ring</th>\n",
       "      <th>MW</th>\n",
       "      <th>C_Atoms_Ring</th>\n",
       "      <th>C_Atoms_Chain</th>\n",
       "      <th>O_Atoms_Chain</th>\n",
       "      <th>O_Atoms_Ring</th>\n",
       "      <th>N_Double Bonds_Ring</th>\n",
       "      <th>N_Double Bonds_Chain</th>\n",
       "      <th>Nitrogen_Atoms</th>\n",
       "      <th>F_Atoms</th>\n",
       "      <th>Total Number of Atoms</th>\n",
       "      <th>Number of Single Bonds</th>\n",
       "    </tr>\n",
       "  </thead>\n",
       "  <tbody>\n",
       "    <tr>\n",
       "      <th>0</th>\n",
       "      <td>Poly(4-biphenyl acrylate)</td>\n",
       "      <td>C=CC(=O)Oc2ccc(c1ccccc1)cc2</td>\n",
       "      <td>383.0</td>\n",
       "      <td>12</td>\n",
       "      <td>212</td>\n",
       "      <td>12</td>\n",
       "      <td>3</td>\n",
       "      <td>2</td>\n",
       "      <td>0</td>\n",
       "      <td>6.0</td>\n",
       "      <td>2</td>\n",
       "      <td>0</td>\n",
       "      <td>0</td>\n",
       "      <td>27</td>\n",
       "      <td>24</td>\n",
       "    </tr>\n",
       "    <tr>\n",
       "      <th>1</th>\n",
       "      <td>Poly(butyl acrylate)</td>\n",
       "      <td>CCCCOC(=O)C=C</td>\n",
       "      <td>219.0</td>\n",
       "      <td>0</td>\n",
       "      <td>116</td>\n",
       "      <td>0</td>\n",
       "      <td>7</td>\n",
       "      <td>2</td>\n",
       "      <td>0</td>\n",
       "      <td>0.0</td>\n",
       "      <td>2</td>\n",
       "      <td>0</td>\n",
       "      <td>0</td>\n",
       "      <td>13</td>\n",
       "      <td>10</td>\n",
       "    </tr>\n",
       "    <tr>\n",
       "      <th>2</th>\n",
       "      <td>Poly(sec-butyl acrylate)</td>\n",
       "      <td>CC(OC(=O)C=C)CC</td>\n",
       "      <td>250.0</td>\n",
       "      <td>0</td>\n",
       "      <td>116</td>\n",
       "      <td>0</td>\n",
       "      <td>7</td>\n",
       "      <td>2</td>\n",
       "      <td>0</td>\n",
       "      <td>0.0</td>\n",
       "      <td>2</td>\n",
       "      <td>0</td>\n",
       "      <td>0</td>\n",
       "      <td>15</td>\n",
       "      <td>12</td>\n",
       "    </tr>\n",
       "    <tr>\n",
       "      <th>3</th>\n",
       "      <td>Poly(2-tertbutylphenyl acrylate)</td>\n",
       "      <td>C=CC(=O)Oc1ccccc1C(C)(C)C</td>\n",
       "      <td>345.0</td>\n",
       "      <td>6</td>\n",
       "      <td>188</td>\n",
       "      <td>6</td>\n",
       "      <td>7</td>\n",
       "      <td>2</td>\n",
       "      <td>0</td>\n",
       "      <td>3.0</td>\n",
       "      <td>2</td>\n",
       "      <td>0</td>\n",
       "      <td>0</td>\n",
       "      <td>25</td>\n",
       "      <td>22</td>\n",
       "    </tr>\n",
       "    <tr>\n",
       "      <th>4</th>\n",
       "      <td>Poly(4-tertbutylphenyl acrylate)</td>\n",
       "      <td>C=CC(=O)Oc1ccc(C(C)(C)C)cc1</td>\n",
       "      <td>344.0</td>\n",
       "      <td>6</td>\n",
       "      <td>188</td>\n",
       "      <td>6</td>\n",
       "      <td>7</td>\n",
       "      <td>2</td>\n",
       "      <td>0</td>\n",
       "      <td>3.0</td>\n",
       "      <td>2</td>\n",
       "      <td>0</td>\n",
       "      <td>0</td>\n",
       "      <td>27</td>\n",
       "      <td>24</td>\n",
       "    </tr>\n",
       "  </tbody>\n",
       "</table>\n",
       "</div>"
      ],
      "text/plain": [
       "                  Nomenclature Name  ... Number of Single Bonds\n",
       "0         Poly(4-biphenyl acrylate)  ...                     24\n",
       "1              Poly(butyl acrylate)  ...                     10\n",
       "2          Poly(sec-butyl acrylate)  ...                     12\n",
       "3  Poly(2-tertbutylphenyl acrylate)  ...                     22\n",
       "4  Poly(4-tertbutylphenyl acrylate)  ...                     24\n",
       "\n",
       "[5 rows x 15 columns]"
      ]
     },
     "execution_count": 231,
     "metadata": {
      "tags": []
     },
     "output_type": "execute_result"
    }
   ],
   "source": [
    "df.head()"
   ]
  },
  {
   "cell_type": "code",
   "execution_count": 232,
   "metadata": {
    "colab": {},
    "colab_type": "code",
    "id": "jBi-i8M-3bz9"
   },
   "outputs": [],
   "source": [
    "X=df.loc[:,\"MW\":]\n",
    "Y=df[[\"Tg\"]]"
   ]
  },
  {
   "cell_type": "code",
   "execution_count": 233,
   "metadata": {
    "colab": {
     "base_uri": "https://localhost:8080/",
     "height": 35
    },
    "colab_type": "code",
    "id": "12QOPfyK30z_",
    "outputId": "1335ff89-05ad-42b9-f706-80a2a9ff4e20"
   },
   "outputs": [
    {
     "data": {
      "text/plain": [
       "(102, 11)"
      ]
     },
     "execution_count": 233,
     "metadata": {
      "tags": []
     },
     "output_type": "execute_result"
    }
   ],
   "source": [
    "from sklearn.preprocessing import StandardScaler\n",
    "sc = StandardScaler()\n",
    "X = sc.fit_transform(X)\n",
    "X.shape"
   ]
  },
  {
   "cell_type": "code",
   "execution_count": 245,
   "metadata": {
    "colab": {},
    "colab_type": "code",
    "id": "nA9zZFJb4TNH"
   },
   "outputs": [],
   "source": [
    "from sklearn.model_selection import train_test_split\n",
    "X_train, X_test, y_train, y_test = train_test_split(X, Y, test_size=0.2, random_state=0)"
   ]
  },
  {
   "cell_type": "code",
   "execution_count": 251,
   "metadata": {
    "colab": {},
    "colab_type": "code",
    "id": "Lo3_USoJ4sf5"
   },
   "outputs": [],
   "source": [
    "model = Sequential()\n",
    "model.add(Dense(40, input_dim=11, activation=\"relu\",kernel_regularizer=\"l2\"))\n",
    "#model.add(Dense(20,activation=\"relu\",kernel_regularizer=\"l2\"))\n",
    "model.add(Dense(10,activation=\"relu\",kernel_regularizer=\"l2\"))\n",
    "#model.add(Dense(12, activation=\"relu\",kernel_regularizer=\"l2\"))\n",
    "model.add(Dense(1))"
   ]
  },
  {
   "cell_type": "code",
   "execution_count": 247,
   "metadata": {
    "colab": {
     "base_uri": "https://localhost:8080/",
     "height": 272
    },
    "colab_type": "code",
    "id": "55rDetUK49Z2",
    "outputId": "ef7ea354-3e99-41da-ff81-fb92ab6a7933"
   },
   "outputs": [
    {
     "name": "stdout",
     "output_type": "stream",
     "text": [
      "Model: \"sequential_35\"\n",
      "_________________________________________________________________\n",
      "Layer (type)                 Output Shape              Param #   \n",
      "=================================================================\n",
      "dense_111 (Dense)            (None, 40)                480       \n",
      "_________________________________________________________________\n",
      "dense_112 (Dense)            (None, 10)                410       \n",
      "_________________________________________________________________\n",
      "dense_113 (Dense)            (None, 1)                 11        \n",
      "=================================================================\n",
      "Total params: 901\n",
      "Trainable params: 901\n",
      "Non-trainable params: 0\n",
      "_________________________________________________________________\n"
     ]
    }
   ],
   "source": [
    "model.summary()"
   ]
  },
  {
   "cell_type": "code",
   "execution_count": 252,
   "metadata": {
    "colab": {
     "base_uri": "https://localhost:8080/",
     "height": 1000
    },
    "colab_type": "code",
    "id": "tlCWUNEe5HAy",
    "outputId": "41d086a6-184a-49c7-e3dc-99e5b05754da"
   },
   "outputs": [
    {
     "name": "stdout",
     "output_type": "stream",
     "text": [
      "Train on 72 samples, validate on 9 samples\n",
      "Epoch 1/70\n",
      "72/72 [==============================] - 0s 2ms/step - loss: 296.5094 - val_loss: 269.0650\n",
      "Epoch 2/70\n",
      "72/72 [==============================] - 0s 163us/step - loss: 286.0569 - val_loss: 232.3117\n",
      "Epoch 3/70\n",
      "72/72 [==============================] - 0s 112us/step - loss: 250.9392 - val_loss: 193.8465\n",
      "Epoch 4/70\n",
      "72/72 [==============================] - 0s 145us/step - loss: 193.3730 - val_loss: 195.9764\n",
      "Epoch 5/70\n",
      "72/72 [==============================] - 0s 119us/step - loss: 137.9410 - val_loss: 166.9417\n",
      "Epoch 6/70\n",
      "72/72 [==============================] - 0s 118us/step - loss: 125.5268 - val_loss: 126.8414\n",
      "Epoch 7/70\n",
      "72/72 [==============================] - 0s 132us/step - loss: 111.4854 - val_loss: 100.9139\n",
      "Epoch 8/70\n",
      "72/72 [==============================] - 0s 177us/step - loss: 85.6305 - val_loss: 101.5332\n",
      "Epoch 9/70\n",
      "72/72 [==============================] - 0s 124us/step - loss: 76.5435 - val_loss: 110.5667\n",
      "Epoch 10/70\n",
      "72/72 [==============================] - 0s 127us/step - loss: 67.5287 - val_loss: 105.5477\n",
      "Epoch 11/70\n",
      "72/72 [==============================] - 0s 122us/step - loss: 62.2842 - val_loss: 103.0362\n",
      "Epoch 12/70\n",
      "72/72 [==============================] - 0s 131us/step - loss: 65.9779 - val_loss: 102.2504\n",
      "Epoch 13/70\n",
      "72/72 [==============================] - 0s 126us/step - loss: 60.6354 - val_loss: 93.0507\n",
      "Epoch 14/70\n",
      "72/72 [==============================] - 0s 95us/step - loss: 53.9389 - val_loss: 79.5864\n",
      "Epoch 15/70\n",
      "72/72 [==============================] - 0s 89us/step - loss: 52.5683 - val_loss: 71.5189\n",
      "Epoch 16/70\n",
      "72/72 [==============================] - 0s 75us/step - loss: 49.7566 - val_loss: 70.5158\n",
      "Epoch 17/70\n",
      "72/72 [==============================] - 0s 96us/step - loss: 43.6819 - val_loss: 68.7706\n",
      "Epoch 18/70\n",
      "72/72 [==============================] - 0s 93us/step - loss: 43.5670 - val_loss: 67.9975\n",
      "Epoch 19/70\n",
      "72/72 [==============================] - 0s 92us/step - loss: 47.2471 - val_loss: 71.8160\n",
      "Epoch 20/70\n",
      "72/72 [==============================] - 0s 99us/step - loss: 42.9828 - val_loss: 73.7123\n",
      "Epoch 21/70\n",
      "72/72 [==============================] - 0s 87us/step - loss: 40.9202 - val_loss: 84.5362\n",
      "Epoch 22/70\n",
      "72/72 [==============================] - 0s 106us/step - loss: 52.1673 - val_loss: 86.3214\n",
      "Epoch 23/70\n",
      "72/72 [==============================] - 0s 103us/step - loss: 48.6483 - val_loss: 90.0921\n",
      "Epoch 24/70\n",
      "72/72 [==============================] - 0s 86us/step - loss: 45.9705 - val_loss: 78.7581\n",
      "Epoch 25/70\n",
      "72/72 [==============================] - 0s 83us/step - loss: 38.0227 - val_loss: 59.8033\n",
      "Epoch 26/70\n",
      "72/72 [==============================] - 0s 81us/step - loss: 39.5294 - val_loss: 58.0034\n",
      "Epoch 27/70\n",
      "72/72 [==============================] - 0s 91us/step - loss: 37.6091 - val_loss: 60.5110\n",
      "Epoch 28/70\n",
      "72/72 [==============================] - 0s 95us/step - loss: 40.1678 - val_loss: 60.5843\n",
      "Epoch 29/70\n",
      "72/72 [==============================] - 0s 75us/step - loss: 40.9260 - val_loss: 55.3214\n",
      "Epoch 30/70\n",
      "72/72 [==============================] - 0s 212us/step - loss: 34.5872 - val_loss: 64.3434\n",
      "Epoch 31/70\n",
      "72/72 [==============================] - 0s 99us/step - loss: 41.1861 - val_loss: 64.9747\n",
      "Epoch 32/70\n",
      "72/72 [==============================] - 0s 95us/step - loss: 40.8690 - val_loss: 60.4243\n",
      "Epoch 33/70\n",
      "72/72 [==============================] - 0s 108us/step - loss: 36.9382 - val_loss: 72.3336\n",
      "Epoch 34/70\n",
      "72/72 [==============================] - 0s 92us/step - loss: 49.9932 - val_loss: 64.8287\n",
      "Epoch 35/70\n",
      "72/72 [==============================] - 0s 103us/step - loss: 42.7326 - val_loss: 56.2737\n",
      "Epoch 36/70\n",
      "72/72 [==============================] - 0s 103us/step - loss: 35.9256 - val_loss: 56.6313\n",
      "Epoch 37/70\n",
      "72/72 [==============================] - 0s 87us/step - loss: 38.5024 - val_loss: 54.5190\n",
      "Epoch 38/70\n",
      "72/72 [==============================] - 0s 90us/step - loss: 30.8363 - val_loss: 49.4048\n",
      "Epoch 39/70\n",
      "72/72 [==============================] - 0s 110us/step - loss: 28.5971 - val_loss: 44.6773\n",
      "Epoch 40/70\n",
      "72/72 [==============================] - 0s 112us/step - loss: 32.2745 - val_loss: 44.8482\n",
      "Epoch 41/70\n",
      "72/72 [==============================] - 0s 91us/step - loss: 30.4807 - val_loss: 53.2026\n",
      "Epoch 42/70\n",
      "72/72 [==============================] - 0s 85us/step - loss: 31.3721 - val_loss: 58.7883\n",
      "Epoch 43/70\n",
      "72/72 [==============================] - 0s 93us/step - loss: 29.9059 - val_loss: 63.6229\n",
      "Epoch 44/70\n",
      "72/72 [==============================] - 0s 99us/step - loss: 33.4189 - val_loss: 56.2134\n",
      "Epoch 45/70\n",
      "72/72 [==============================] - 0s 95us/step - loss: 32.6186 - val_loss: 62.9989\n",
      "Epoch 46/70\n",
      "72/72 [==============================] - 0s 85us/step - loss: 41.4403 - val_loss: 54.9656\n",
      "Epoch 47/70\n",
      "72/72 [==============================] - 0s 86us/step - loss: 31.9861 - val_loss: 51.6008\n",
      "Epoch 48/70\n",
      "72/72 [==============================] - 0s 93us/step - loss: 30.0878 - val_loss: 55.5994\n",
      "Epoch 49/70\n",
      "72/72 [==============================] - 0s 113us/step - loss: 28.3243 - val_loss: 52.7547\n",
      "Epoch 50/70\n",
      "72/72 [==============================] - 0s 104us/step - loss: 28.9848 - val_loss: 43.1511\n",
      "Epoch 51/70\n",
      "72/72 [==============================] - 0s 94us/step - loss: 26.4896 - val_loss: 40.5994\n",
      "Epoch 52/70\n",
      "72/72 [==============================] - 0s 88us/step - loss: 33.6601 - val_loss: 34.3082\n",
      "Epoch 53/70\n",
      "72/72 [==============================] - 0s 80us/step - loss: 26.3556 - val_loss: 45.7474\n",
      "Epoch 54/70\n",
      "72/72 [==============================] - 0s 69us/step - loss: 33.0615 - val_loss: 45.7821\n",
      "Epoch 55/70\n",
      "72/72 [==============================] - 0s 64us/step - loss: 28.1857 - val_loss: 37.3254\n",
      "Epoch 56/70\n",
      "72/72 [==============================] - 0s 76us/step - loss: 31.4135 - val_loss: 36.1821\n",
      "Epoch 57/70\n",
      "72/72 [==============================] - 0s 108us/step - loss: 28.9537 - val_loss: 40.9710\n",
      "Epoch 58/70\n",
      "72/72 [==============================] - 0s 99us/step - loss: 23.2689 - val_loss: 43.2377\n",
      "Epoch 59/70\n",
      "72/72 [==============================] - 0s 87us/step - loss: 23.2233 - val_loss: 47.6577\n",
      "Epoch 60/70\n",
      "72/72 [==============================] - 0s 84us/step - loss: 27.9771 - val_loss: 37.8289\n",
      "Epoch 61/70\n",
      "72/72 [==============================] - 0s 101us/step - loss: 21.6353 - val_loss: 37.9258\n",
      "Epoch 62/70\n",
      "72/72 [==============================] - 0s 86us/step - loss: 23.4184 - val_loss: 37.7083\n",
      "Epoch 63/70\n",
      "72/72 [==============================] - 0s 103us/step - loss: 22.9597 - val_loss: 34.5921\n",
      "Epoch 64/70\n",
      "72/72 [==============================] - 0s 92us/step - loss: 20.7958 - val_loss: 32.7027\n",
      "Epoch 65/70\n",
      "72/72 [==============================] - 0s 99us/step - loss: 18.2641 - val_loss: 35.8138\n",
      "Epoch 66/70\n",
      "72/72 [==============================] - 0s 93us/step - loss: 22.0778 - val_loss: 37.2300\n",
      "Epoch 67/70\n",
      "72/72 [==============================] - 0s 91us/step - loss: 23.9255 - val_loss: 31.8652\n",
      "Epoch 68/70\n",
      "72/72 [==============================] - 0s 90us/step - loss: 19.7287 - val_loss: 32.1956\n",
      "Epoch 69/70\n",
      "72/72 [==============================] - 0s 101us/step - loss: 21.0777 - val_loss: 29.0762\n",
      "Epoch 70/70\n",
      "72/72 [==============================] - 0s 102us/step - loss: 21.5188 - val_loss: 28.4274\n"
     ]
    }
   ],
   "source": [
    "optimizer=optimizers.adam(lr=0.09)\n",
    "model.compile(optimizer=optimizer, loss='mean_absolute_error')\n",
    "Model=model.fit(x=X_train,y=y_train,epochs=70,batch_size=64,validation_split=0.1)\n",
    "  "
   ]
  },
  {
   "cell_type": "code",
   "execution_count": 260,
   "metadata": {
    "colab": {
     "base_uri": "https://localhost:8080/",
     "height": 54
    },
    "colab_type": "code",
    "id": "6Wvt2Dfi5Xxs",
    "outputId": "e9320345-7989-4502-9f9e-26a20aa2fb30"
   },
   "outputs": [
    {
     "name": "stdout",
     "output_type": "stream",
     "text": [
      "Train Error =  17.74619980800299\n",
      "Unseen Test Error =  14.115353538876487\n"
     ]
    }
   ],
   "source": [
    "y_predtrain=model.predict(X_train)\n",
    "y_predtest=model.predict(X_test)\n",
    "print(\"Train Error = \",abs(y_predtrain.reshape(81)-y_train.values.reshape(81)).sum()/81)\n",
    "print(\"Unseen Test Error = \",abs(y_predtest.reshape(21)-y_test.values.reshape(21)).sum()/21)"
   ]
  },
  {
   "cell_type": "code",
   "execution_count": 254,
   "metadata": {
    "colab": {
     "base_uri": "https://localhost:8080/",
     "height": 542
    },
    "colab_type": "code",
    "id": "TajQ1AF4-A5E",
    "outputId": "18a12bc0-b29b-4511-8cb5-11da8f06960d"
   },
   "outputs": [
    {
     "data": {
      "text/html": [
       "<html>\n",
       "<head><meta charset=\"utf-8\" /></head>\n",
       "<body>\n",
       "    <div>\n",
       "            <script src=\"https://cdnjs.cloudflare.com/ajax/libs/mathjax/2.7.5/MathJax.js?config=TeX-AMS-MML_SVG\"></script><script type=\"text/javascript\">if (window.MathJax) {MathJax.Hub.Config({SVG: {font: \"STIX-Web\"}});}</script>\n",
       "                <script type=\"text/javascript\">window.PlotlyConfig = {MathJaxConfig: 'local'};</script>\n",
       "        <script src=\"https://cdn.plot.ly/plotly-latest.min.js\"></script>    \n",
       "            <div id=\"9addc171-3121-4e9c-9210-05b2547058d9\" class=\"plotly-graph-div\" style=\"height:525px; width:100%;\"></div>\n",
       "            <script type=\"text/javascript\">\n",
       "                \n",
       "                    window.PLOTLYENV=window.PLOTLYENV || {};\n",
       "                    \n",
       "                if (document.getElementById(\"9addc171-3121-4e9c-9210-05b2547058d9\")) {\n",
       "                    Plotly.newPlot(\n",
       "                        '9addc171-3121-4e9c-9210-05b2547058d9',\n",
       "                        [{\"marker\": {\"color\": [-0.3908676296952327, -0.4525078578085864, 0.9769052896530277, -0.7998073698720343, -1.9112238366647685, 0.032352957258576724, 0.533402831836246, -0.5720506807996806, -1.1335300190951243, -1.0944877087130127, -0.7576254724950128, 0.10542567860411138, 0.8952797575952883, 0.2174740234191053, 1.31786965296446, 1.173523062698886, -1.7935471905060179, -1.4304898953115586, 0.13368182902219172, 0.08542081994548738, -0.16617737136189414], \"colorscale\": [[0.0, \"#440154\"], [0.1111111111111111, \"#482878\"], [0.2222222222222222, \"#3e4989\"], [0.3333333333333333, \"#31688e\"], [0.4444444444444444, \"#26828e\"], [0.5555555555555556, \"#1f9e89\"], [0.6666666666666666, \"#35b779\"], [0.7777777777777778, \"#6ece58\"], [0.8888888888888888, \"#b5de2b\"], [1.0, \"#fde725\"]], \"line\": {\"width\": 2}}, \"mode\": \"markers\", \"type\": \"scattergl\", \"x\": [239.41510009765625, 343.5283508300781, 346.4836120605469, 246.52059936523438, 312.6591491699219, 329.3836975097656, 391.36700439453125, 324.0425109863281, 336.98345947265625, 244.2813720703125, 400.2966613769531, 338.4613037109375, 410.7109069824219, 316.2607116699219, 333.93438720703125, 249.1913299560547, 232.17869567871094, 359.8138732910156, 342.4609069824219, 224.70384216308594, 334.0157165527344, 338.2599792480469, 257.7359313964844, 352.1390075683594, 250.2858123779297, 265.5196228027344, 273.0578918457031, 338.1445617675781, 358.1223449707031, 338.1445617675781, 258.62017822265625, 377.337890625, 246.98204040527344, 326.823974609375, 221.21348571777344, 272.6408386230469, 244.6968994140625, 235.6119842529297, 325.2773132324219, 247.4359588623047, 232.17869567871094, 386.9978332519531, 266.7892150878906, 221.21348571777344, 335.3315734863281, 337.6960144042969, 365.0505676269531, 343.5283508300781, 223.0751495361328, 322.4212341308594, 279.4635925292969, 232.5859832763672, 228.02444458007812, 354.5059509277344, 351.3887023925781, 393.9400329589844, 231.77134704589844, 342.3441162109375, 334.85406494140625, 338.2023010253906, 338.0767822265625, 232.5859832763672, 316.2186584472656, 192.10853576660156, 235.91566467285156, 219.6278839111328, 216.24729919433594, 323.5176696777344, 354.5059509277344, 349.3105773925781, 384.7982177734375, 348.9283752441406, 261.102783203125, 216.8485870361328, 344.5892028808594, 313.24456787109375, 352.7584228515625, 270.2575378417969, 223.0283966064453, 233.0850830078125, 246.5527801513672], \"y\": [223.0, 345.0, 359.0, 235.0, 286.0, 324.0, 373.0, 339.0, 339.0, 270.0, 372.0, 361.0, 375.0, 233.0, 324.0, 218.0, 223.0, 359.0, 347.0, 219.0, 319.0, 298.0, 251.0, 344.0, 249.0, 243.0, 297.0, 270.0, 317.0, 365.0, 251.0, 383.0, 236.0, 198.0, 228.0, 270.0, 238.0, 249.0, 250.0, 258.0, 235.0, 376.0, 283.0, 228.0, 347.0, 341.0, 358.0, 363.0, 218.0, 339.0, 283.0, 241.0, 223.0, 358.0, 348.0, 389.0, 235.0, 343.0, 349.0, 367.0, 311.0, 267.0, 318.0, 205.0, 236.0, 216.0, 213.0, 303.0, 350.0, 368.0, 371.0, 351.0, 247.0, 308.0, 319.0, 339.0, 364.0, 233.0, 215.0, 234.0, 263.0]}],\n",
       "                        {\"template\": {\"data\": {\"bar\": [{\"error_x\": {\"color\": \"#2a3f5f\"}, \"error_y\": {\"color\": \"#2a3f5f\"}, \"marker\": {\"line\": {\"color\": \"#E5ECF6\", \"width\": 0.5}}, \"type\": \"bar\"}], \"barpolar\": [{\"marker\": {\"line\": {\"color\": \"#E5ECF6\", \"width\": 0.5}}, \"type\": \"barpolar\"}], \"carpet\": [{\"aaxis\": {\"endlinecolor\": \"#2a3f5f\", \"gridcolor\": \"white\", \"linecolor\": \"white\", \"minorgridcolor\": \"white\", \"startlinecolor\": \"#2a3f5f\"}, \"baxis\": {\"endlinecolor\": \"#2a3f5f\", \"gridcolor\": \"white\", \"linecolor\": \"white\", \"minorgridcolor\": \"white\", \"startlinecolor\": \"#2a3f5f\"}, \"type\": \"carpet\"}], \"choropleth\": [{\"colorbar\": {\"outlinewidth\": 0, \"ticks\": \"\"}, \"type\": \"choropleth\"}], \"contour\": [{\"colorbar\": {\"outlinewidth\": 0, \"ticks\": \"\"}, \"colorscale\": [[0.0, \"#0d0887\"], [0.1111111111111111, \"#46039f\"], [0.2222222222222222, \"#7201a8\"], [0.3333333333333333, \"#9c179e\"], [0.4444444444444444, \"#bd3786\"], [0.5555555555555556, \"#d8576b\"], [0.6666666666666666, \"#ed7953\"], [0.7777777777777778, \"#fb9f3a\"], [0.8888888888888888, \"#fdca26\"], [1.0, \"#f0f921\"]], \"type\": \"contour\"}], \"contourcarpet\": [{\"colorbar\": {\"outlinewidth\": 0, \"ticks\": \"\"}, \"type\": \"contourcarpet\"}], \"heatmap\": [{\"colorbar\": {\"outlinewidth\": 0, \"ticks\": \"\"}, \"colorscale\": [[0.0, \"#0d0887\"], [0.1111111111111111, \"#46039f\"], [0.2222222222222222, \"#7201a8\"], [0.3333333333333333, \"#9c179e\"], [0.4444444444444444, \"#bd3786\"], [0.5555555555555556, \"#d8576b\"], [0.6666666666666666, \"#ed7953\"], [0.7777777777777778, \"#fb9f3a\"], [0.8888888888888888, \"#fdca26\"], [1.0, \"#f0f921\"]], \"type\": \"heatmap\"}], \"heatmapgl\": [{\"colorbar\": {\"outlinewidth\": 0, \"ticks\": \"\"}, \"colorscale\": [[0.0, \"#0d0887\"], [0.1111111111111111, \"#46039f\"], [0.2222222222222222, \"#7201a8\"], [0.3333333333333333, \"#9c179e\"], [0.4444444444444444, \"#bd3786\"], [0.5555555555555556, \"#d8576b\"], [0.6666666666666666, \"#ed7953\"], [0.7777777777777778, \"#fb9f3a\"], [0.8888888888888888, \"#fdca26\"], [1.0, \"#f0f921\"]], \"type\": \"heatmapgl\"}], \"histogram\": [{\"marker\": {\"colorbar\": {\"outlinewidth\": 0, \"ticks\": \"\"}}, \"type\": \"histogram\"}], \"histogram2d\": [{\"colorbar\": {\"outlinewidth\": 0, \"ticks\": \"\"}, \"colorscale\": [[0.0, \"#0d0887\"], [0.1111111111111111, \"#46039f\"], [0.2222222222222222, \"#7201a8\"], [0.3333333333333333, \"#9c179e\"], [0.4444444444444444, \"#bd3786\"], [0.5555555555555556, \"#d8576b\"], [0.6666666666666666, \"#ed7953\"], [0.7777777777777778, \"#fb9f3a\"], [0.8888888888888888, \"#fdca26\"], [1.0, \"#f0f921\"]], \"type\": \"histogram2d\"}], \"histogram2dcontour\": [{\"colorbar\": {\"outlinewidth\": 0, \"ticks\": \"\"}, \"colorscale\": [[0.0, \"#0d0887\"], [0.1111111111111111, \"#46039f\"], [0.2222222222222222, \"#7201a8\"], [0.3333333333333333, \"#9c179e\"], [0.4444444444444444, \"#bd3786\"], [0.5555555555555556, \"#d8576b\"], [0.6666666666666666, \"#ed7953\"], [0.7777777777777778, \"#fb9f3a\"], [0.8888888888888888, \"#fdca26\"], [1.0, \"#f0f921\"]], \"type\": \"histogram2dcontour\"}], \"mesh3d\": [{\"colorbar\": {\"outlinewidth\": 0, \"ticks\": \"\"}, \"type\": \"mesh3d\"}], \"parcoords\": [{\"line\": {\"colorbar\": {\"outlinewidth\": 0, \"ticks\": \"\"}}, \"type\": \"parcoords\"}], \"pie\": [{\"automargin\": true, \"type\": \"pie\"}], \"scatter\": [{\"marker\": {\"colorbar\": {\"outlinewidth\": 0, \"ticks\": \"\"}}, \"type\": \"scatter\"}], \"scatter3d\": [{\"line\": {\"colorbar\": {\"outlinewidth\": 0, \"ticks\": \"\"}}, \"marker\": {\"colorbar\": {\"outlinewidth\": 0, \"ticks\": \"\"}}, \"type\": \"scatter3d\"}], \"scattercarpet\": [{\"marker\": {\"colorbar\": {\"outlinewidth\": 0, \"ticks\": \"\"}}, \"type\": \"scattercarpet\"}], \"scattergeo\": [{\"marker\": {\"colorbar\": {\"outlinewidth\": 0, \"ticks\": \"\"}}, \"type\": \"scattergeo\"}], \"scattergl\": [{\"marker\": {\"colorbar\": {\"outlinewidth\": 0, \"ticks\": \"\"}}, \"type\": \"scattergl\"}], \"scattermapbox\": [{\"marker\": {\"colorbar\": {\"outlinewidth\": 0, \"ticks\": \"\"}}, \"type\": \"scattermapbox\"}], \"scatterpolar\": [{\"marker\": {\"colorbar\": {\"outlinewidth\": 0, \"ticks\": \"\"}}, \"type\": \"scatterpolar\"}], \"scatterpolargl\": [{\"marker\": {\"colorbar\": {\"outlinewidth\": 0, \"ticks\": \"\"}}, \"type\": \"scatterpolargl\"}], \"scatterternary\": [{\"marker\": {\"colorbar\": {\"outlinewidth\": 0, \"ticks\": \"\"}}, \"type\": \"scatterternary\"}], \"surface\": [{\"colorbar\": {\"outlinewidth\": 0, \"ticks\": \"\"}, \"colorscale\": [[0.0, \"#0d0887\"], [0.1111111111111111, \"#46039f\"], [0.2222222222222222, \"#7201a8\"], [0.3333333333333333, \"#9c179e\"], [0.4444444444444444, \"#bd3786\"], [0.5555555555555556, \"#d8576b\"], [0.6666666666666666, \"#ed7953\"], [0.7777777777777778, \"#fb9f3a\"], [0.8888888888888888, \"#fdca26\"], [1.0, \"#f0f921\"]], \"type\": \"surface\"}], \"table\": [{\"cells\": {\"fill\": {\"color\": \"#EBF0F8\"}, \"line\": {\"color\": \"white\"}}, \"header\": {\"fill\": {\"color\": \"#C8D4E3\"}, \"line\": {\"color\": \"white\"}}, \"type\": \"table\"}]}, \"layout\": {\"annotationdefaults\": {\"arrowcolor\": \"#2a3f5f\", \"arrowhead\": 0, \"arrowwidth\": 1}, \"coloraxis\": {\"colorbar\": {\"outlinewidth\": 0, \"ticks\": \"\"}}, \"colorscale\": {\"diverging\": [[0, \"#8e0152\"], [0.1, \"#c51b7d\"], [0.2, \"#de77ae\"], [0.3, \"#f1b6da\"], [0.4, \"#fde0ef\"], [0.5, \"#f7f7f7\"], [0.6, \"#e6f5d0\"], [0.7, \"#b8e186\"], [0.8, \"#7fbc41\"], [0.9, \"#4d9221\"], [1, \"#276419\"]], \"sequential\": [[0.0, \"#0d0887\"], [0.1111111111111111, \"#46039f\"], [0.2222222222222222, \"#7201a8\"], [0.3333333333333333, \"#9c179e\"], [0.4444444444444444, \"#bd3786\"], [0.5555555555555556, \"#d8576b\"], [0.6666666666666666, \"#ed7953\"], [0.7777777777777778, \"#fb9f3a\"], [0.8888888888888888, \"#fdca26\"], [1.0, \"#f0f921\"]], \"sequentialminus\": [[0.0, \"#0d0887\"], [0.1111111111111111, \"#46039f\"], [0.2222222222222222, \"#7201a8\"], [0.3333333333333333, \"#9c179e\"], [0.4444444444444444, \"#bd3786\"], [0.5555555555555556, \"#d8576b\"], [0.6666666666666666, \"#ed7953\"], [0.7777777777777778, \"#fb9f3a\"], [0.8888888888888888, \"#fdca26\"], [1.0, \"#f0f921\"]]}, \"colorway\": [\"#636efa\", \"#EF553B\", \"#00cc96\", \"#ab63fa\", \"#FFA15A\", \"#19d3f3\", \"#FF6692\", \"#B6E880\", \"#FF97FF\", \"#FECB52\"], \"font\": {\"color\": \"#2a3f5f\"}, \"geo\": {\"bgcolor\": \"white\", \"lakecolor\": \"white\", \"landcolor\": \"#E5ECF6\", \"showlakes\": true, \"showland\": true, \"subunitcolor\": \"white\"}, \"hoverlabel\": {\"align\": \"left\"}, \"hovermode\": \"closest\", \"mapbox\": {\"style\": \"light\"}, \"paper_bgcolor\": \"white\", \"plot_bgcolor\": \"#E5ECF6\", \"polar\": {\"angularaxis\": {\"gridcolor\": \"white\", \"linecolor\": \"white\", \"ticks\": \"\"}, \"bgcolor\": \"#E5ECF6\", \"radialaxis\": {\"gridcolor\": \"white\", \"linecolor\": \"white\", \"ticks\": \"\"}}, \"scene\": {\"xaxis\": {\"backgroundcolor\": \"#E5ECF6\", \"gridcolor\": \"white\", \"gridwidth\": 2, \"linecolor\": \"white\", \"showbackground\": true, \"ticks\": \"\", \"zerolinecolor\": \"white\"}, \"yaxis\": {\"backgroundcolor\": \"#E5ECF6\", \"gridcolor\": \"white\", \"gridwidth\": 2, \"linecolor\": \"white\", \"showbackground\": true, \"ticks\": \"\", \"zerolinecolor\": \"white\"}, \"zaxis\": {\"backgroundcolor\": \"#E5ECF6\", \"gridcolor\": \"white\", \"gridwidth\": 2, \"linecolor\": \"white\", \"showbackground\": true, \"ticks\": \"\", \"zerolinecolor\": \"white\"}}, \"shapedefaults\": {\"line\": {\"color\": \"#2a3f5f\"}}, \"ternary\": {\"aaxis\": {\"gridcolor\": \"white\", \"linecolor\": \"white\", \"ticks\": \"\"}, \"baxis\": {\"gridcolor\": \"white\", \"linecolor\": \"white\", \"ticks\": \"\"}, \"bgcolor\": \"#E5ECF6\", \"caxis\": {\"gridcolor\": \"white\", \"linecolor\": \"white\", \"ticks\": \"\"}}, \"title\": {\"x\": 0.05}, \"xaxis\": {\"automargin\": true, \"gridcolor\": \"white\", \"linecolor\": \"white\", \"ticks\": \"\", \"title\": {\"standoff\": 15}, \"zerolinecolor\": \"white\", \"zerolinewidth\": 2}, \"yaxis\": {\"automargin\": true, \"gridcolor\": \"white\", \"linecolor\": \"white\", \"ticks\": \"\", \"title\": {\"standoff\": 15}, \"zerolinecolor\": \"white\", \"zerolinewidth\": 2}}}},\n",
       "                        {\"responsive\": true}\n",
       "                    ).then(function(){\n",
       "                            \n",
       "var gd = document.getElementById('9addc171-3121-4e9c-9210-05b2547058d9');\n",
       "var x = new MutationObserver(function (mutations, observer) {{\n",
       "        var display = window.getComputedStyle(gd).display;\n",
       "        if (!display || display === 'none') {{\n",
       "            console.log([gd, 'removed!']);\n",
       "            Plotly.purge(gd);\n",
       "            observer.disconnect();\n",
       "        }}\n",
       "}});\n",
       "\n",
       "// Listen for the removal of the full notebook cells\n",
       "var notebookContainer = gd.closest('#notebook-container');\n",
       "if (notebookContainer) {{\n",
       "    x.observe(notebookContainer, {childList: true});\n",
       "}}\n",
       "\n",
       "// Listen for the clearing of the current output cell\n",
       "var outputEl = gd.closest('.output');\n",
       "if (outputEl) {{\n",
       "    x.observe(outputEl, {childList: true});\n",
       "}}\n",
       "\n",
       "                        })\n",
       "                };\n",
       "                \n",
       "            </script>\n",
       "        </div>\n",
       "</body>\n",
       "</html>"
      ]
     },
     "metadata": {
      "tags": []
     },
     "output_type": "display_data"
    }
   ],
   "source": [
    "import plotly.graph_objects as go\n",
    "import numpy as np\n",
    "\n",
    "fig = go.Figure(data=go.Scattergl(\n",
    "    x = y_predtrain.reshape(81),\n",
    "    y = y_train.values.reshape(81),\n",
    "    mode='markers',\n",
    "    marker=dict(\n",
    "        color=np.random.randn(21),\n",
    "        colorscale='Viridis',\n",
    "        line_width=2\n",
    "    )\n",
    "))\n",
    "\n",
    "fig.show()"
   ]
  },
  {
   "cell_type": "code",
   "execution_count": 255,
   "metadata": {
    "colab": {
     "base_uri": "https://localhost:8080/",
     "height": 542
    },
    "colab_type": "code",
    "id": "0mEsSJWu-etS",
    "outputId": "283bfe70-e89e-4b91-924f-03f1c3b072bf"
   },
   "outputs": [
    {
     "data": {
      "text/html": [
       "<html>\n",
       "<head><meta charset=\"utf-8\" /></head>\n",
       "<body>\n",
       "    <div>\n",
       "            <script src=\"https://cdnjs.cloudflare.com/ajax/libs/mathjax/2.7.5/MathJax.js?config=TeX-AMS-MML_SVG\"></script><script type=\"text/javascript\">if (window.MathJax) {MathJax.Hub.Config({SVG: {font: \"STIX-Web\"}});}</script>\n",
       "                <script type=\"text/javascript\">window.PlotlyConfig = {MathJaxConfig: 'local'};</script>\n",
       "        <script src=\"https://cdn.plot.ly/plotly-latest.min.js\"></script>    \n",
       "            <div id=\"ed560ccb-453e-4a98-95b4-33e3e59b15df\" class=\"plotly-graph-div\" style=\"height:525px; width:100%;\"></div>\n",
       "            <script type=\"text/javascript\">\n",
       "                \n",
       "                    window.PLOTLYENV=window.PLOTLYENV || {};\n",
       "                    \n",
       "                if (document.getElementById(\"ed560ccb-453e-4a98-95b4-33e3e59b15df\")) {\n",
       "                    Plotly.newPlot(\n",
       "                        'ed560ccb-453e-4a98-95b4-33e3e59b15df',\n",
       "                        [{\"marker\": {\"color\": [0.2873273676305444, 0.6436324547987126, -0.11736196333114439, -1.8239526621155673, -0.5324407760301226, 0.8252602877695265, -0.20459204257286473, 0.4763384936987942, -1.6576181626015138, -0.13127383712186505, -0.9822264467842369, -0.820112582770176, 0.19948863803196298, -0.36774039445149087, 1.1455800390884783, 0.45123863917297735, 0.06128135949131249, 1.2844526037096682, -0.5760342761976281, -1.0382584954955918, -1.2651155891038042, 0.30308140705528686, 0.4870109294436899, -1.4089006034140223, -0.28917719944423065, -1.8401132767355817, 0.36044921025870574, -2.8342767160551974, -1.917650828139029, -1.261946890854593, -0.6328391513750959, -0.47976902234488544, 1.3029677242233564, -0.06108913339241108, -1.0257207845015577, -1.7549614848247421, -0.3646094274953731, 0.5130880871646556, -0.5739673806163593, -1.0068026934501673, -0.23827009390155865, 1.375859792536856, 0.9302509719247241, -0.9414071782372899, 0.47364251737851626, 0.07226264772479844, -1.4620641854347838, 0.36399105650199515, 0.9328687553420735, 0.3240481200850346, 1.545343072981939, 0.26579153764633845, 0.6746069841621317, 1.0689502626686986, -0.281898952942964, -1.0126705473556767, 1.163366342862057, -0.3033836396904247, 0.7743030623023854, 2.8783549971352542, -0.1545383560841959, 1.3538683650983905, 0.8806072030748743, -0.4650581164773896, -0.3233872958665814, 0.02060095088828652, -3.1945272138928713, 1.3943708060029087, 0.3550828929689774, 0.6118813762590892, -0.6151590506566144, -0.10591260463068902, 2.433086887671084, 1.7811434150611456, -0.058206784388275506, 0.5825973472531554, -3.043083401131311, -1.0447944508260063, 1.500879956761854, 0.7284683927842641, 0.07109406126418015], \"colorscale\": [[0.0, \"#440154\"], [0.1111111111111111, \"#482878\"], [0.2222222222222222, \"#3e4989\"], [0.3333333333333333, \"#31688e\"], [0.4444444444444444, \"#26828e\"], [0.5555555555555556, \"#1f9e89\"], [0.6666666666666666, \"#35b779\"], [0.7777777777777778, \"#6ece58\"], [0.8888888888888888, \"#b5de2b\"], [1.0, \"#fde725\"]], \"line\": {\"width\": 2}}, \"mode\": \"markers\", \"type\": \"scattergl\", \"x\": [338.0767822265625, 378.9596252441406, 235.6119842529297, 228.02444458007812, 330.6461486816406, 401.3595886230469, 273.1587829589844, 338.2599792480469, 327.5787658691406, 338.2599792480469, 371.6108703613281, 346.4836120605469, 372.888916015625, 327.5787658691406, 300.12164306640625, 232.5859832763672, 216.8485870361328, 239.41510009765625, 223.43565368652344, 364.6780090332031, 322.5943908691406], \"y\": [340.0, 351.0, 250.0, 223.0, 323.0, 384.0, 288.0, 330.0, 310.0, 316.0, 320.0, 343.0, 360.0, 297.0, 277.0, 228.0, 216.0, 217.0, 224.0, 358.0, 325.0]}],\n",
       "                        {\"template\": {\"data\": {\"bar\": [{\"error_x\": {\"color\": \"#2a3f5f\"}, \"error_y\": {\"color\": \"#2a3f5f\"}, \"marker\": {\"line\": {\"color\": \"#E5ECF6\", \"width\": 0.5}}, \"type\": \"bar\"}], \"barpolar\": [{\"marker\": {\"line\": {\"color\": \"#E5ECF6\", \"width\": 0.5}}, \"type\": \"barpolar\"}], \"carpet\": [{\"aaxis\": {\"endlinecolor\": \"#2a3f5f\", \"gridcolor\": \"white\", \"linecolor\": \"white\", \"minorgridcolor\": \"white\", \"startlinecolor\": \"#2a3f5f\"}, \"baxis\": {\"endlinecolor\": \"#2a3f5f\", \"gridcolor\": \"white\", \"linecolor\": \"white\", \"minorgridcolor\": \"white\", \"startlinecolor\": \"#2a3f5f\"}, \"type\": \"carpet\"}], \"choropleth\": [{\"colorbar\": {\"outlinewidth\": 0, \"ticks\": \"\"}, \"type\": \"choropleth\"}], \"contour\": [{\"colorbar\": {\"outlinewidth\": 0, \"ticks\": \"\"}, \"colorscale\": [[0.0, \"#0d0887\"], [0.1111111111111111, \"#46039f\"], [0.2222222222222222, \"#7201a8\"], [0.3333333333333333, \"#9c179e\"], [0.4444444444444444, \"#bd3786\"], [0.5555555555555556, \"#d8576b\"], [0.6666666666666666, \"#ed7953\"], [0.7777777777777778, \"#fb9f3a\"], [0.8888888888888888, \"#fdca26\"], [1.0, \"#f0f921\"]], \"type\": \"contour\"}], \"contourcarpet\": [{\"colorbar\": {\"outlinewidth\": 0, \"ticks\": \"\"}, \"type\": \"contourcarpet\"}], \"heatmap\": [{\"colorbar\": {\"outlinewidth\": 0, \"ticks\": \"\"}, \"colorscale\": [[0.0, \"#0d0887\"], [0.1111111111111111, \"#46039f\"], [0.2222222222222222, \"#7201a8\"], [0.3333333333333333, \"#9c179e\"], [0.4444444444444444, \"#bd3786\"], [0.5555555555555556, \"#d8576b\"], [0.6666666666666666, \"#ed7953\"], [0.7777777777777778, \"#fb9f3a\"], [0.8888888888888888, \"#fdca26\"], [1.0, \"#f0f921\"]], \"type\": \"heatmap\"}], \"heatmapgl\": [{\"colorbar\": {\"outlinewidth\": 0, \"ticks\": \"\"}, \"colorscale\": [[0.0, \"#0d0887\"], [0.1111111111111111, \"#46039f\"], [0.2222222222222222, \"#7201a8\"], [0.3333333333333333, \"#9c179e\"], [0.4444444444444444, \"#bd3786\"], [0.5555555555555556, \"#d8576b\"], [0.6666666666666666, \"#ed7953\"], [0.7777777777777778, \"#fb9f3a\"], [0.8888888888888888, \"#fdca26\"], [1.0, \"#f0f921\"]], \"type\": \"heatmapgl\"}], \"histogram\": [{\"marker\": {\"colorbar\": {\"outlinewidth\": 0, \"ticks\": \"\"}}, \"type\": \"histogram\"}], \"histogram2d\": [{\"colorbar\": {\"outlinewidth\": 0, \"ticks\": \"\"}, \"colorscale\": [[0.0, \"#0d0887\"], [0.1111111111111111, \"#46039f\"], [0.2222222222222222, \"#7201a8\"], [0.3333333333333333, \"#9c179e\"], [0.4444444444444444, \"#bd3786\"], [0.5555555555555556, \"#d8576b\"], [0.6666666666666666, \"#ed7953\"], [0.7777777777777778, \"#fb9f3a\"], [0.8888888888888888, \"#fdca26\"], [1.0, \"#f0f921\"]], \"type\": \"histogram2d\"}], \"histogram2dcontour\": [{\"colorbar\": {\"outlinewidth\": 0, \"ticks\": \"\"}, \"colorscale\": [[0.0, \"#0d0887\"], [0.1111111111111111, \"#46039f\"], [0.2222222222222222, \"#7201a8\"], [0.3333333333333333, \"#9c179e\"], [0.4444444444444444, \"#bd3786\"], [0.5555555555555556, \"#d8576b\"], [0.6666666666666666, \"#ed7953\"], [0.7777777777777778, \"#fb9f3a\"], [0.8888888888888888, \"#fdca26\"], [1.0, \"#f0f921\"]], \"type\": \"histogram2dcontour\"}], \"mesh3d\": [{\"colorbar\": {\"outlinewidth\": 0, \"ticks\": \"\"}, \"type\": \"mesh3d\"}], \"parcoords\": [{\"line\": {\"colorbar\": {\"outlinewidth\": 0, \"ticks\": \"\"}}, \"type\": \"parcoords\"}], \"pie\": [{\"automargin\": true, \"type\": \"pie\"}], \"scatter\": [{\"marker\": {\"colorbar\": {\"outlinewidth\": 0, \"ticks\": \"\"}}, \"type\": \"scatter\"}], \"scatter3d\": [{\"line\": {\"colorbar\": {\"outlinewidth\": 0, \"ticks\": \"\"}}, \"marker\": {\"colorbar\": {\"outlinewidth\": 0, \"ticks\": \"\"}}, \"type\": \"scatter3d\"}], \"scattercarpet\": [{\"marker\": {\"colorbar\": {\"outlinewidth\": 0, \"ticks\": \"\"}}, \"type\": \"scattercarpet\"}], \"scattergeo\": [{\"marker\": {\"colorbar\": {\"outlinewidth\": 0, \"ticks\": \"\"}}, \"type\": \"scattergeo\"}], \"scattergl\": [{\"marker\": {\"colorbar\": {\"outlinewidth\": 0, \"ticks\": \"\"}}, \"type\": \"scattergl\"}], \"scattermapbox\": [{\"marker\": {\"colorbar\": {\"outlinewidth\": 0, \"ticks\": \"\"}}, \"type\": \"scattermapbox\"}], \"scatterpolar\": [{\"marker\": {\"colorbar\": {\"outlinewidth\": 0, \"ticks\": \"\"}}, \"type\": \"scatterpolar\"}], \"scatterpolargl\": [{\"marker\": {\"colorbar\": {\"outlinewidth\": 0, \"ticks\": \"\"}}, \"type\": \"scatterpolargl\"}], \"scatterternary\": [{\"marker\": {\"colorbar\": {\"outlinewidth\": 0, \"ticks\": \"\"}}, \"type\": \"scatterternary\"}], \"surface\": [{\"colorbar\": {\"outlinewidth\": 0, \"ticks\": \"\"}, \"colorscale\": [[0.0, \"#0d0887\"], [0.1111111111111111, \"#46039f\"], [0.2222222222222222, \"#7201a8\"], [0.3333333333333333, \"#9c179e\"], [0.4444444444444444, \"#bd3786\"], [0.5555555555555556, \"#d8576b\"], [0.6666666666666666, \"#ed7953\"], [0.7777777777777778, \"#fb9f3a\"], [0.8888888888888888, \"#fdca26\"], [1.0, \"#f0f921\"]], \"type\": \"surface\"}], \"table\": [{\"cells\": {\"fill\": {\"color\": \"#EBF0F8\"}, \"line\": {\"color\": \"white\"}}, \"header\": {\"fill\": {\"color\": \"#C8D4E3\"}, \"line\": {\"color\": \"white\"}}, \"type\": \"table\"}]}, \"layout\": {\"annotationdefaults\": {\"arrowcolor\": \"#2a3f5f\", \"arrowhead\": 0, \"arrowwidth\": 1}, \"coloraxis\": {\"colorbar\": {\"outlinewidth\": 0, \"ticks\": \"\"}}, \"colorscale\": {\"diverging\": [[0, \"#8e0152\"], [0.1, \"#c51b7d\"], [0.2, \"#de77ae\"], [0.3, \"#f1b6da\"], [0.4, \"#fde0ef\"], [0.5, \"#f7f7f7\"], [0.6, \"#e6f5d0\"], [0.7, \"#b8e186\"], [0.8, \"#7fbc41\"], [0.9, \"#4d9221\"], [1, \"#276419\"]], \"sequential\": [[0.0, \"#0d0887\"], [0.1111111111111111, \"#46039f\"], [0.2222222222222222, \"#7201a8\"], [0.3333333333333333, \"#9c179e\"], [0.4444444444444444, \"#bd3786\"], [0.5555555555555556, \"#d8576b\"], [0.6666666666666666, \"#ed7953\"], [0.7777777777777778, \"#fb9f3a\"], [0.8888888888888888, \"#fdca26\"], [1.0, \"#f0f921\"]], \"sequentialminus\": [[0.0, \"#0d0887\"], [0.1111111111111111, \"#46039f\"], [0.2222222222222222, \"#7201a8\"], [0.3333333333333333, \"#9c179e\"], [0.4444444444444444, \"#bd3786\"], [0.5555555555555556, \"#d8576b\"], [0.6666666666666666, \"#ed7953\"], [0.7777777777777778, \"#fb9f3a\"], [0.8888888888888888, \"#fdca26\"], [1.0, \"#f0f921\"]]}, \"colorway\": [\"#636efa\", \"#EF553B\", \"#00cc96\", \"#ab63fa\", \"#FFA15A\", \"#19d3f3\", \"#FF6692\", \"#B6E880\", \"#FF97FF\", \"#FECB52\"], \"font\": {\"color\": \"#2a3f5f\"}, \"geo\": {\"bgcolor\": \"white\", \"lakecolor\": \"white\", \"landcolor\": \"#E5ECF6\", \"showlakes\": true, \"showland\": true, \"subunitcolor\": \"white\"}, \"hoverlabel\": {\"align\": \"left\"}, \"hovermode\": \"closest\", \"mapbox\": {\"style\": \"light\"}, \"paper_bgcolor\": \"white\", \"plot_bgcolor\": \"#E5ECF6\", \"polar\": {\"angularaxis\": {\"gridcolor\": \"white\", \"linecolor\": \"white\", \"ticks\": \"\"}, \"bgcolor\": \"#E5ECF6\", \"radialaxis\": {\"gridcolor\": \"white\", \"linecolor\": \"white\", \"ticks\": \"\"}}, \"scene\": {\"xaxis\": {\"backgroundcolor\": \"#E5ECF6\", \"gridcolor\": \"white\", \"gridwidth\": 2, \"linecolor\": \"white\", \"showbackground\": true, \"ticks\": \"\", \"zerolinecolor\": \"white\"}, \"yaxis\": {\"backgroundcolor\": \"#E5ECF6\", \"gridcolor\": \"white\", \"gridwidth\": 2, \"linecolor\": \"white\", \"showbackground\": true, \"ticks\": \"\", \"zerolinecolor\": \"white\"}, \"zaxis\": {\"backgroundcolor\": \"#E5ECF6\", \"gridcolor\": \"white\", \"gridwidth\": 2, \"linecolor\": \"white\", \"showbackground\": true, \"ticks\": \"\", \"zerolinecolor\": \"white\"}}, \"shapedefaults\": {\"line\": {\"color\": \"#2a3f5f\"}}, \"ternary\": {\"aaxis\": {\"gridcolor\": \"white\", \"linecolor\": \"white\", \"ticks\": \"\"}, \"baxis\": {\"gridcolor\": \"white\", \"linecolor\": \"white\", \"ticks\": \"\"}, \"bgcolor\": \"#E5ECF6\", \"caxis\": {\"gridcolor\": \"white\", \"linecolor\": \"white\", \"ticks\": \"\"}}, \"title\": {\"x\": 0.05}, \"xaxis\": {\"automargin\": true, \"gridcolor\": \"white\", \"linecolor\": \"white\", \"ticks\": \"\", \"title\": {\"standoff\": 15}, \"zerolinecolor\": \"white\", \"zerolinewidth\": 2}, \"yaxis\": {\"automargin\": true, \"gridcolor\": \"white\", \"linecolor\": \"white\", \"ticks\": \"\", \"title\": {\"standoff\": 15}, \"zerolinecolor\": \"white\", \"zerolinewidth\": 2}}}},\n",
       "                        {\"responsive\": true}\n",
       "                    ).then(function(){\n",
       "                            \n",
       "var gd = document.getElementById('ed560ccb-453e-4a98-95b4-33e3e59b15df');\n",
       "var x = new MutationObserver(function (mutations, observer) {{\n",
       "        var display = window.getComputedStyle(gd).display;\n",
       "        if (!display || display === 'none') {{\n",
       "            console.log([gd, 'removed!']);\n",
       "            Plotly.purge(gd);\n",
       "            observer.disconnect();\n",
       "        }}\n",
       "}});\n",
       "\n",
       "// Listen for the removal of the full notebook cells\n",
       "var notebookContainer = gd.closest('#notebook-container');\n",
       "if (notebookContainer) {{\n",
       "    x.observe(notebookContainer, {childList: true});\n",
       "}}\n",
       "\n",
       "// Listen for the clearing of the current output cell\n",
       "var outputEl = gd.closest('.output');\n",
       "if (outputEl) {{\n",
       "    x.observe(outputEl, {childList: true});\n",
       "}}\n",
       "\n",
       "                        })\n",
       "                };\n",
       "                \n",
       "            </script>\n",
       "        </div>\n",
       "</body>\n",
       "</html>"
      ]
     },
     "metadata": {
      "tags": []
     },
     "output_type": "display_data"
    }
   ],
   "source": [
    "import plotly.graph_objects as go\n",
    "import numpy as np\n",
    "\n",
    "fig = go.Figure(data=go.Scattergl(\n",
    "    x = y_predtest.reshape(21),\n",
    "    y = y_test.values.reshape(21),\n",
    "    mode='markers',\n",
    "    marker=dict(\n",
    "        color=np.random.randn(81),\n",
    "        colorscale='Viridis',\n",
    "        line_width=2\n",
    "    )\n",
    "))\n",
    "\n",
    "fig.show()"
   ]
  },
  {
   "cell_type": "code",
   "execution_count": null,
   "metadata": {
    "colab": {},
    "colab_type": "code",
    "id": "5T3Cqkd_AcVi"
   },
   "outputs": [],
   "source": []
  }
 ],
 "metadata": {
  "colab": {
   "collapsed_sections": [],
   "name": "AI in Materials Science Project.ipynb",
   "provenance": []
  },
  "kernelspec": {
   "display_name": "Python 3",
   "language": "python",
   "name": "python3"
  },
  "language_info": {
   "codemirror_mode": {
    "name": "ipython",
    "version": 3
   },
   "file_extension": ".py",
   "mimetype": "text/x-python",
   "name": "python",
   "nbconvert_exporter": "python",
   "pygments_lexer": "ipython3",
   "version": "3.7.6"
  }
 },
 "nbformat": 4,
 "nbformat_minor": 1
}
